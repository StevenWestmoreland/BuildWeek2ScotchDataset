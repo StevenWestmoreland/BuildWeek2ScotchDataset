{
  "nbformat": 4,
  "nbformat_minor": 0,
  "metadata": {
    "colab": {
      "name": "DSPT6_Unit2_Build_StevenWestmoreland.ipynb",
      "provenance": [],
      "toc_visible": true,
      "authorship_tag": "ABX9TyNGMe0fdCZ8O9S56u8JF4cJ",
      "include_colab_link": true
    },
    "kernelspec": {
      "name": "python3",
      "display_name": "Python 3"
    }
  },
  "cells": [
    {
      "cell_type": "markdown",
      "metadata": {
        "id": "view-in-github",
        "colab_type": "text"
      },
      "source": [
        "<a href=\"https://colab.research.google.com/github/StevenWestmoreland/BuildWeek2ScotchDataset/blob/master/DSPT6_Unit2_Build_StevenWestmoreland.ipynb\" target=\"_parent\"><img src=\"https://colab.research.google.com/assets/colab-badge.svg\" alt=\"Open In Colab\"/></a>"
      ]
    },
    {
      "cell_type": "markdown",
      "metadata": {
        "id": "tbJ4zoX2Je_v",
        "colab_type": "text"
      },
      "source": [
        "# Predicting Scotch Satisfaction Ratings\n",
        "\n",
        "*The dataset that was used in this project can be found [here](https://www.kaggle.com/koki25ando/22000-scotch-whisky-reviews) on Kaggle. It was collected from Whisky Advocate by Kaggle user Andy II.*\n",
        "\n",
        "Project synopsis: Can we predict whether a whisky can be considered Poor, Fair, Good, or Excellent based off of it's category, Whisky Advocate score, price, and the reviewer's description? "
      ]
    },
    {
      "cell_type": "markdown",
      "metadata": {
        "id": "__AoEvJhRAmG",
        "colab_type": "text"
      },
      "source": [
        "*Note: This project uses scotch and whisky interchangably. While the author is aware that the wide world of whisky extends far beyond scotch alone, for this project we will just be looking at scotch whiskies and it is therefore inaccurate for use with bourbons, Japanese or Irish whiskies, or any other variation thereof.*"
      ]
    },
    {
      "cell_type": "markdown",
      "metadata": {
        "id": "pzp_JzwDNxFa",
        "colab_type": "text"
      },
      "source": [
        "This project is designed with two major applications in mind, one for the consumer and one for the distiller.\n",
        "\n",
        "For the consumer, it is my hope that this data can be useful in determining whether to give a whisky a try, While perhaps a bit unwieldy compared to directly consulting review sites such as Whisky Advocate, not all whiskies have reviews (or if they do there is a woefully small amount of them, which can bring into question how much partiality or bias went in to those scores.) Instead, by looking at the features used in these models and comparing them to prospective whiskies the consumer will be better armed in making an informed, and happily enjoyable, purchase. \n",
        "\n",
        "Similarly, for the distiller, these models will show which key features lead more often than not towards Excellent ratings. This will allow for the tailoring of future mash bill recipes in ways to capitalize on the taste preferences of the consumer base.\n",
        "\n",
        "However, these models are limited in scope. They do not take into account things like mash bill recpie percentages, barrel aging processes, or other key phases of the distillation process. Neither are these models good for whiskies that have extensive reviews already, if for no other reason than it would be easier to consult a review site or app than it would to apply these models to the whisky in question."
      ]
    },
    {
      "cell_type": "markdown",
      "metadata": {
        "id": "4IgzBPHGX0Dt",
        "colab_type": "text"
      },
      "source": [
        "#Exploratory Analysis"
      ]
    },
    {
      "cell_type": "code",
      "metadata": {
        "id": "E04sh0TtN8My",
        "colab_type": "code",
        "outputId": "c37a73b6-b654-47ea-8b76-8a58d95170b1",
        "colab": {
          "base_uri": "https://localhost:8080/",
          "height": 1000
        }
      },
      "source": [
        "# Imports and first dataset reading. Cleaned Index column and renamed column \n",
        "# 'review.point' to avoid any unnecessary issues with dot-notation.\n",
        "import pandas as pd\n",
        "import numpy as np\n",
        "import matplotlib.pyplot as plt\n",
        "import seaborn as sns\n",
        "\n",
        "!pip install eli5\n",
        "!pip install category_encoders==2.*\n",
        "!pip install pdpbox\n",
        "\n",
        "import warnings\n",
        "warnings.filterwarnings(action='ignore', category=FutureWarning, module='numpy')\n"
      ],
      "execution_count": 1,
      "outputs": [
        {
          "output_type": "stream",
          "text": [
            "/usr/local/lib/python3.6/dist-packages/statsmodels/tools/_testing.py:19: FutureWarning: pandas.util.testing is deprecated. Use the functions in the public API at pandas.testing instead.\n",
            "  import pandas.util.testing as tm\n"
          ],
          "name": "stderr"
        },
        {
          "output_type": "stream",
          "text": [
            "Collecting eli5\n",
            "\u001b[?25l  Downloading https://files.pythonhosted.org/packages/97/2f/c85c7d8f8548e460829971785347e14e45fa5c6617da374711dec8cb38cc/eli5-0.10.1-py2.py3-none-any.whl (105kB)\n",
            "\u001b[K     |████████████████████████████████| 112kB 2.7MB/s \n",
            "\u001b[?25hRequirement already satisfied: six in /usr/local/lib/python3.6/dist-packages (from eli5) (1.12.0)\n",
            "Requirement already satisfied: scipy in /usr/local/lib/python3.6/dist-packages (from eli5) (1.4.1)\n",
            "Requirement already satisfied: graphviz in /usr/local/lib/python3.6/dist-packages (from eli5) (0.10.1)\n",
            "Requirement already satisfied: numpy>=1.9.0 in /usr/local/lib/python3.6/dist-packages (from eli5) (1.18.5)\n",
            "Requirement already satisfied: tabulate>=0.7.7 in /usr/local/lib/python3.6/dist-packages (from eli5) (0.8.7)\n",
            "Requirement already satisfied: scikit-learn>=0.18 in /usr/local/lib/python3.6/dist-packages (from eli5) (0.22.2.post1)\n",
            "Requirement already satisfied: attrs>16.0.0 in /usr/local/lib/python3.6/dist-packages (from eli5) (19.3.0)\n",
            "Requirement already satisfied: jinja2 in /usr/local/lib/python3.6/dist-packages (from eli5) (2.11.2)\n",
            "Requirement already satisfied: joblib>=0.11 in /usr/local/lib/python3.6/dist-packages (from scikit-learn>=0.18->eli5) (0.15.1)\n",
            "Requirement already satisfied: MarkupSafe>=0.23 in /usr/local/lib/python3.6/dist-packages (from jinja2->eli5) (1.1.1)\n",
            "Installing collected packages: eli5\n",
            "Successfully installed eli5-0.10.1\n",
            "Collecting category_encoders==2.*\n",
            "\u001b[?25l  Downloading https://files.pythonhosted.org/packages/44/57/fcef41c248701ee62e8325026b90c432adea35555cbc870aff9cfba23727/category_encoders-2.2.2-py2.py3-none-any.whl (80kB)\n",
            "\u001b[K     |████████████████████████████████| 81kB 2.2MB/s \n",
            "\u001b[?25hRequirement already satisfied: numpy>=1.14.0 in /usr/local/lib/python3.6/dist-packages (from category_encoders==2.*) (1.18.5)\n",
            "Requirement already satisfied: scikit-learn>=0.20.0 in /usr/local/lib/python3.6/dist-packages (from category_encoders==2.*) (0.22.2.post1)\n",
            "Requirement already satisfied: scipy>=1.0.0 in /usr/local/lib/python3.6/dist-packages (from category_encoders==2.*) (1.4.1)\n",
            "Requirement already satisfied: statsmodels>=0.9.0 in /usr/local/lib/python3.6/dist-packages (from category_encoders==2.*) (0.10.2)\n",
            "Requirement already satisfied: patsy>=0.5.1 in /usr/local/lib/python3.6/dist-packages (from category_encoders==2.*) (0.5.1)\n",
            "Requirement already satisfied: pandas>=0.21.1 in /usr/local/lib/python3.6/dist-packages (from category_encoders==2.*) (1.0.4)\n",
            "Requirement already satisfied: joblib>=0.11 in /usr/local/lib/python3.6/dist-packages (from scikit-learn>=0.20.0->category_encoders==2.*) (0.15.1)\n",
            "Requirement already satisfied: six in /usr/local/lib/python3.6/dist-packages (from patsy>=0.5.1->category_encoders==2.*) (1.12.0)\n",
            "Requirement already satisfied: pytz>=2017.2 in /usr/local/lib/python3.6/dist-packages (from pandas>=0.21.1->category_encoders==2.*) (2018.9)\n",
            "Requirement already satisfied: python-dateutil>=2.6.1 in /usr/local/lib/python3.6/dist-packages (from pandas>=0.21.1->category_encoders==2.*) (2.8.1)\n",
            "Installing collected packages: category-encoders\n",
            "Successfully installed category-encoders-2.2.2\n",
            "Collecting pdpbox\n",
            "\u001b[?25l  Downloading https://files.pythonhosted.org/packages/87/23/ac7da5ba1c6c03a87c412e7e7b6e91a10d6ecf4474906c3e736f93940d49/PDPbox-0.2.0.tar.gz (57.7MB)\n",
            "\u001b[K     |████████████████████████████████| 57.7MB 63kB/s \n",
            "\u001b[?25hRequirement already satisfied: pandas in /usr/local/lib/python3.6/dist-packages (from pdpbox) (1.0.4)\n",
            "Requirement already satisfied: numpy in /usr/local/lib/python3.6/dist-packages (from pdpbox) (1.18.5)\n",
            "Requirement already satisfied: scipy in /usr/local/lib/python3.6/dist-packages (from pdpbox) (1.4.1)\n",
            "Requirement already satisfied: matplotlib>=2.1.2 in /usr/local/lib/python3.6/dist-packages (from pdpbox) (3.2.1)\n",
            "Requirement already satisfied: joblib in /usr/local/lib/python3.6/dist-packages (from pdpbox) (0.15.1)\n",
            "Requirement already satisfied: psutil in /usr/local/lib/python3.6/dist-packages (from pdpbox) (5.4.8)\n",
            "Requirement already satisfied: scikit-learn in /usr/local/lib/python3.6/dist-packages (from pdpbox) (0.22.2.post1)\n",
            "Requirement already satisfied: python-dateutil>=2.6.1 in /usr/local/lib/python3.6/dist-packages (from pandas->pdpbox) (2.8.1)\n",
            "Requirement already satisfied: pytz>=2017.2 in /usr/local/lib/python3.6/dist-packages (from pandas->pdpbox) (2018.9)\n",
            "Requirement already satisfied: cycler>=0.10 in /usr/local/lib/python3.6/dist-packages (from matplotlib>=2.1.2->pdpbox) (0.10.0)\n",
            "Requirement already satisfied: pyparsing!=2.0.4,!=2.1.2,!=2.1.6,>=2.0.1 in /usr/local/lib/python3.6/dist-packages (from matplotlib>=2.1.2->pdpbox) (2.4.7)\n",
            "Requirement already satisfied: kiwisolver>=1.0.1 in /usr/local/lib/python3.6/dist-packages (from matplotlib>=2.1.2->pdpbox) (1.2.0)\n",
            "Requirement already satisfied: six>=1.5 in /usr/local/lib/python3.6/dist-packages (from python-dateutil>=2.6.1->pandas->pdpbox) (1.12.0)\n",
            "Building wheels for collected packages: pdpbox\n",
            "  Building wheel for pdpbox (setup.py) ... \u001b[?25l\u001b[?25hdone\n",
            "  Created wheel for pdpbox: filename=PDPbox-0.2.0-cp36-none-any.whl size=57690722 sha256=a974a1cd0b74efd0ef770e19b59de459cba0839b4a9fcf07749a03e86c0de74f\n",
            "  Stored in directory: /root/.cache/pip/wheels/7d/08/51/63fd122b04a2c87d780464eeffb94867c75bd96a64d500a3fe\n",
            "Successfully built pdpbox\n",
            "Installing collected packages: pdpbox\n",
            "Successfully installed pdpbox-0.2.0\n"
          ],
          "name": "stdout"
        }
      ]
    },
    {
      "cell_type": "code",
      "metadata": {
        "id": "zcmG4QZyWv8Q",
        "colab_type": "code",
        "outputId": "bb42ea3c-eff7-4382-8739-c33b7ed1cb55",
        "colab": {
          "base_uri": "https://localhost:8080/",
          "height": 198
        }
      },
      "source": [
        "scotch_df=pd.read_csv('scotch_review.csv').drop(columns='Unnamed: 0')\n",
        "scotch_df=scotch_df.rename(columns={'review.point': 'review_point'})\n",
        "scotch_df.head()"
      ],
      "execution_count": 2,
      "outputs": [
        {
          "output_type": "execute_result",
          "data": {
            "text/html": [
              "<div>\n",
              "<style scoped>\n",
              "    .dataframe tbody tr th:only-of-type {\n",
              "        vertical-align: middle;\n",
              "    }\n",
              "\n",
              "    .dataframe tbody tr th {\n",
              "        vertical-align: top;\n",
              "    }\n",
              "\n",
              "    .dataframe thead th {\n",
              "        text-align: right;\n",
              "    }\n",
              "</style>\n",
              "<table border=\"1\" class=\"dataframe\">\n",
              "  <thead>\n",
              "    <tr style=\"text-align: right;\">\n",
              "      <th></th>\n",
              "      <th>name</th>\n",
              "      <th>category</th>\n",
              "      <th>review_point</th>\n",
              "      <th>price</th>\n",
              "      <th>currency</th>\n",
              "      <th>description</th>\n",
              "    </tr>\n",
              "  </thead>\n",
              "  <tbody>\n",
              "    <tr>\n",
              "      <th>0</th>\n",
              "      <td>Johnnie Walker Blue Label, 40%</td>\n",
              "      <td>Blended Scotch Whisky</td>\n",
              "      <td>97</td>\n",
              "      <td>225</td>\n",
              "      <td>$</td>\n",
              "      <td>Magnificently powerful and intense. Caramels, ...</td>\n",
              "    </tr>\n",
              "    <tr>\n",
              "      <th>1</th>\n",
              "      <td>Black Bowmore, 1964 vintage, 42 year old, 40.5%</td>\n",
              "      <td>Single Malt Scotch</td>\n",
              "      <td>97</td>\n",
              "      <td>4500.00</td>\n",
              "      <td>$</td>\n",
              "      <td>What impresses me most is how this whisky evol...</td>\n",
              "    </tr>\n",
              "    <tr>\n",
              "      <th>2</th>\n",
              "      <td>Bowmore 46 year old (distilled 1964), 42.9%</td>\n",
              "      <td>Single Malt Scotch</td>\n",
              "      <td>97</td>\n",
              "      <td>13500.00</td>\n",
              "      <td>$</td>\n",
              "      <td>There have been some legendary Bowmores from t...</td>\n",
              "    </tr>\n",
              "    <tr>\n",
              "      <th>3</th>\n",
              "      <td>Compass Box The General, 53.4%</td>\n",
              "      <td>Blended Malt Scotch Whisky</td>\n",
              "      <td>96</td>\n",
              "      <td>325</td>\n",
              "      <td>$</td>\n",
              "      <td>With a name inspired by a 1926 Buster Keaton m...</td>\n",
              "    </tr>\n",
              "    <tr>\n",
              "      <th>4</th>\n",
              "      <td>Chivas Regal Ultis, 40%</td>\n",
              "      <td>Blended Malt Scotch Whisky</td>\n",
              "      <td>96</td>\n",
              "      <td>160</td>\n",
              "      <td>$</td>\n",
              "      <td>Captivating, enticing, and wonderfully charmin...</td>\n",
              "    </tr>\n",
              "  </tbody>\n",
              "</table>\n",
              "</div>"
            ],
            "text/plain": [
              "                                              name  ...                                        description\n",
              "0                   Johnnie Walker Blue Label, 40%  ...  Magnificently powerful and intense. Caramels, ...\n",
              "1  Black Bowmore, 1964 vintage, 42 year old, 40.5%  ...  What impresses me most is how this whisky evol...\n",
              "2      Bowmore 46 year old (distilled 1964), 42.9%  ...  There have been some legendary Bowmores from t...\n",
              "3                   Compass Box The General, 53.4%  ...  With a name inspired by a 1926 Buster Keaton m...\n",
              "4                          Chivas Regal Ultis, 40%  ...  Captivating, enticing, and wonderfully charmin...\n",
              "\n",
              "[5 rows x 6 columns]"
            ]
          },
          "metadata": {
            "tags": []
          },
          "execution_count": 2
        }
      ]
    },
    {
      "cell_type": "code",
      "metadata": {
        "id": "cPlO7ZszVWIg",
        "colab_type": "code",
        "outputId": "564b4753-1cdf-400e-c3fc-c2f08a61af11",
        "colab": {
          "base_uri": "https://localhost:8080/",
          "height": 145
        }
      },
      "source": [
        "# check for null values\n",
        "scotch_df.isnull().sum()"
      ],
      "execution_count": 3,
      "outputs": [
        {
          "output_type": "execute_result",
          "data": {
            "text/plain": [
              "name            0\n",
              "category        0\n",
              "review_point    0\n",
              "price           0\n",
              "currency        0\n",
              "description     0\n",
              "dtype: int64"
            ]
          },
          "metadata": {
            "tags": []
          },
          "execution_count": 3
        }
      ]
    },
    {
      "cell_type": "markdown",
      "metadata": {
        "id": "sr8IadBVYWRf",
        "colab_type": "text"
      },
      "source": [
        "Since we are looking at predicting how well a scotch might be recieved, I initially pegged the 'review_point' column as my target variable."
      ]
    },
    {
      "cell_type": "code",
      "metadata": {
        "id": "oJ7qi-OD7tiT",
        "colab_type": "code",
        "outputId": "71d36014-a5f3-4c4b-b027-93820fb99f02",
        "colab": {
          "base_uri": "https://localhost:8080/",
          "height": 563
        }
      },
      "source": [
        "scotch_df['review_point'].value_counts(normalize=True)"
      ],
      "execution_count": 4,
      "outputs": [
        {
          "output_type": "execute_result",
          "data": {
            "text/plain": [
              "87    0.098353\n",
              "86    0.097018\n",
              "88    0.090788\n",
              "85    0.088117\n",
              "89    0.087672\n",
              "90    0.083667\n",
              "84    0.076992\n",
              "83    0.062750\n",
              "92    0.049844\n",
              "91    0.047619\n",
              "82    0.042724\n",
              "93    0.037383\n",
              "80    0.036938\n",
              "81    0.029372\n",
              "94    0.019137\n",
              "79    0.013796\n",
              "95    0.010681\n",
              "78    0.008011\n",
              "77    0.005340\n",
              "96    0.004450\n",
              "72    0.001780\n",
              "76    0.001335\n",
              "75    0.001335\n",
              "97    0.001335\n",
              "74    0.000890\n",
              "70    0.000890\n",
              "73    0.000890\n",
              "71    0.000445\n",
              "63    0.000445\n",
              "Name: review_point, dtype: float64"
            ]
          },
          "metadata": {
            "tags": []
          },
          "execution_count": 4
        }
      ]
    },
    {
      "cell_type": "code",
      "metadata": {
        "id": "UJitBpAA539K",
        "colab_type": "code",
        "outputId": "26c39d85-3311-4041-d6c4-8439b3593fec",
        "colab": {
          "base_uri": "https://localhost:8080/",
          "height": 181
        }
      },
      "source": [
        "scotch_df['review_point'].describe()"
      ],
      "execution_count": 5,
      "outputs": [
        {
          "output_type": "execute_result",
          "data": {
            "text/plain": [
              "count    2247.000000\n",
              "mean       86.700045\n",
              "std         4.054055\n",
              "min        63.000000\n",
              "25%        84.000000\n",
              "50%        87.000000\n",
              "75%        90.000000\n",
              "max        97.000000\n",
              "Name: review_point, dtype: float64"
            ]
          },
          "metadata": {
            "tags": []
          },
          "execution_count": 5
        }
      ]
    },
    {
      "cell_type": "markdown",
      "metadata": {
        "id": "W5p6pX0qYsCo",
        "colab_type": "text"
      },
      "source": [
        "As you can see, we've a bunch of possible outcomes and not enough features to make good predictions from. At 29 posible outcomes, and only seven features, it just isn't feasible. At least, not with any significant accuracy.\n",
        "\n",
        "Instead, I opted to combined multiple scores into one of four categories: **Poor**, **Fair**, **Good**, or **Excellent**. This moved my model from one of regression to classification. \n",
        "\n",
        "Even though the ratings theoretically are from 0 to 100, there is actually a range from 63 to 97. Therefore, I decided to bin each category at the 25%, 50%, 75%, and max scores. "
      ]
    },
    {
      "cell_type": "code",
      "metadata": {
        "id": "N1G97KQ_6J1M",
        "colab_type": "code",
        "outputId": "a5c9afe2-0fa5-4464-d730-16e43c744aca",
        "colab": {
          "base_uri": "https://localhost:8080/",
          "height": 258
        }
      },
      "source": [
        "scotch_df.loc[scotch_df['review_point'] >= 90, 'satisfaction_rating'] = 'Excellent'\n",
        "scotch_df.loc[(scotch_df['review_point'] >= 87) & (scotch_df['review_point'] < 90), 'satisfaction_rating'] = 'Good'\n",
        "scotch_df.loc[(scotch_df['review_point'] >= 84) & (scotch_df['review_point'] < 87), 'satisfaction_rating'] = 'Fair' \n",
        "scotch_df.loc[scotch_df['review_point'] < 84, 'satisfaction_rating'] = 'Poor' \n",
        "\n",
        "scotch_df.sample(7)"
      ],
      "execution_count": 6,
      "outputs": [
        {
          "output_type": "execute_result",
          "data": {
            "text/html": [
              "<div>\n",
              "<style scoped>\n",
              "    .dataframe tbody tr th:only-of-type {\n",
              "        vertical-align: middle;\n",
              "    }\n",
              "\n",
              "    .dataframe tbody tr th {\n",
              "        vertical-align: top;\n",
              "    }\n",
              "\n",
              "    .dataframe thead th {\n",
              "        text-align: right;\n",
              "    }\n",
              "</style>\n",
              "<table border=\"1\" class=\"dataframe\">\n",
              "  <thead>\n",
              "    <tr style=\"text-align: right;\">\n",
              "      <th></th>\n",
              "      <th>name</th>\n",
              "      <th>category</th>\n",
              "      <th>review_point</th>\n",
              "      <th>price</th>\n",
              "      <th>currency</th>\n",
              "      <th>description</th>\n",
              "      <th>satisfaction_rating</th>\n",
              "    </tr>\n",
              "  </thead>\n",
              "  <tbody>\n",
              "    <tr>\n",
              "      <th>668</th>\n",
              "      <td>Murray McDavid</td>\n",
              "      <td>Single Malt Scotch</td>\n",
              "      <td>89</td>\n",
              "      <td>150.00</td>\n",
              "      <td>$</td>\n",
              "      <td>Yellow gold color. Fresh, floral aromas (remin...</td>\n",
              "      <td>Good</td>\n",
              "    </tr>\n",
              "    <tr>\n",
              "      <th>47</th>\n",
              "      <td>Signatory (distilled at Bowmore), 35 year old,...</td>\n",
              "      <td>Single Malt Scotch</td>\n",
              "      <td>94</td>\n",
              "      <td>500.00</td>\n",
              "      <td>$</td>\n",
              "      <td>Lush, thick fruit and chewy toffee soothes the...</td>\n",
              "      <td>Excellent</td>\n",
              "    </tr>\n",
              "    <tr>\n",
              "      <th>1750</th>\n",
              "      <td>Royal Salute The Diamond Tribute, 40%</td>\n",
              "      <td>Blended Scotch Whisky</td>\n",
              "      <td>84</td>\n",
              "      <td>270</td>\n",
              "      <td>$</td>\n",
              "      <td>How can you really compare this to a quality b...</td>\n",
              "      <td>Fair</td>\n",
              "    </tr>\n",
              "    <tr>\n",
              "      <th>313</th>\n",
              "      <td>Cragganmore 25 year old (Diageo Special Releas...</td>\n",
              "      <td>Single Malt Scotch</td>\n",
              "      <td>91</td>\n",
              "      <td>500</td>\n",
              "      <td>$</td>\n",
              "      <td>The question is how this stacks up against the...</td>\n",
              "      <td>Excellent</td>\n",
              "    </tr>\n",
              "    <tr>\n",
              "      <th>88</th>\n",
              "      <td>Royal Salute Stone of Destiny, 38 year old, 40%</td>\n",
              "      <td>Blended Scotch Whisky</td>\n",
              "      <td>93</td>\n",
              "      <td>600.00</td>\n",
              "      <td>$</td>\n",
              "      <td>The last new Chivas release was the 25 year ol...</td>\n",
              "      <td>Excellent</td>\n",
              "    </tr>\n",
              "    <tr>\n",
              "      <th>460</th>\n",
              "      <td>Glenglassaugh, 26 year old, 46%</td>\n",
              "      <td>Single Malt Scotch</td>\n",
              "      <td>90</td>\n",
              "      <td>260.00</td>\n",
              "      <td>$</td>\n",
              "      <td>A polished whisky, light-medium in body with w...</td>\n",
              "      <td>Excellent</td>\n",
              "    </tr>\n",
              "    <tr>\n",
              "      <th>1236</th>\n",
              "      <td>Caol Ila 15 year old, 61.5%</td>\n",
              "      <td>Single Malt Scotch</td>\n",
              "      <td>86</td>\n",
              "      <td>140</td>\n",
              "      <td>$</td>\n",
              "      <td>Unpeated Caol Ilas have become a regular in th...</td>\n",
              "      <td>Fair</td>\n",
              "    </tr>\n",
              "  </tbody>\n",
              "</table>\n",
              "</div>"
            ],
            "text/plain": [
              "                                                   name  ... satisfaction_rating\n",
              "668                                     Murray McDavid   ...                Good\n",
              "47    Signatory (distilled at Bowmore), 35 year old,...  ...           Excellent\n",
              "1750              Royal Salute The Diamond Tribute, 40%  ...                Fair\n",
              "313   Cragganmore 25 year old (Diageo Special Releas...  ...           Excellent\n",
              "88      Royal Salute Stone of Destiny, 38 year old, 40%  ...           Excellent\n",
              "460                     Glenglassaugh, 26 year old, 46%  ...           Excellent\n",
              "1236                        Caol Ila 15 year old, 61.5%  ...                Fair\n",
              "\n",
              "[7 rows x 7 columns]"
            ]
          },
          "metadata": {
            "tags": []
          },
          "execution_count": 6
        }
      ]
    },
    {
      "cell_type": "code",
      "metadata": {
        "id": "dc2GU03ClvPI",
        "colab_type": "code",
        "outputId": "15dd5f6c-68b6-4a02-e2bb-e0fc4a561042",
        "colab": {
          "base_uri": "https://localhost:8080/",
          "height": 108
        }
      },
      "source": [
        "# get normalized value_counts() to determine majority class\n",
        "scotch_df['satisfaction_rating'].value_counts(normalize=True)"
      ],
      "execution_count": 7,
      "outputs": [
        {
          "output_type": "execute_result",
          "data": {
            "text/plain": [
              "Good         0.276814\n",
              "Fair         0.262127\n",
              "Excellent    0.254117\n",
              "Poor         0.206943\n",
              "Name: satisfaction_rating, dtype: float64"
            ]
          },
          "metadata": {
            "tags": []
          },
          "execution_count": 7
        }
      ]
    },
    {
      "cell_type": "markdown",
      "metadata": {
        "id": "oWtS3lBjl8wU",
        "colab_type": "text"
      },
      "source": [
        "This gave me a fairly even distribution of classes. The majority class here is **Good** at 27.68% accuracy, much better than the 9.83% accuracy if I had tried to predict the score itself.\n",
        "\n",
        "This does, however, present an opportunity for data leakage. If I were to fit with the review_point feature still in the dataframe, the model will have an artificial 100% accuracy. You will see that I handle this later in the wrangle function, where I exclude this feature from the fitting.\n",
        "\n",
        "Another potentially problematic feature is the currency feature. If the entire dataset has price recorded in USD, then I can ignore the feature because it has nothing substantial to give. If, instead, it happens to have multiple types of currency, I'd need to consider encoding techniques."
      ]
    },
    {
      "cell_type": "code",
      "metadata": {
        "id": "leeT1WUdEbVa",
        "colab_type": "code",
        "outputId": "02e82e62-3b49-482c-8894-02e87deb4142",
        "colab": {
          "base_uri": "https://localhost:8080/",
          "height": 54
        }
      },
      "source": [
        "# make sure currency doesn't have multiple types, otherwise will need encoding\n",
        "scotch_df['currency'].value_counts()"
      ],
      "execution_count": 8,
      "outputs": [
        {
          "output_type": "execute_result",
          "data": {
            "text/plain": [
              "$    2247\n",
              "Name: currency, dtype: int64"
            ]
          },
          "metadata": {
            "tags": []
          },
          "execution_count": 8
        }
      ]
    },
    {
      "cell_type": "markdown",
      "metadata": {
        "id": "IFRSFqlHoXin",
        "colab_type": "text"
      },
      "source": [
        "Since everything is recorded in USD, I will need to also drop this feature within the wrangle function.\n",
        "\n",
        "Speaking of prices, I also wanted to take a look at that particular feature's range of recorded prices."
      ]
    },
    {
      "cell_type": "code",
      "metadata": {
        "id": "X7Dg_8mRSCQ4",
        "colab_type": "code",
        "outputId": "6cd1b2bc-851c-4ccc-86dc-0528eca15bd9",
        "colab": {
          "base_uri": "https://localhost:8080/",
          "height": 235
        }
      },
      "source": [
        "scotch_df['price'].value_counts().sort_index()"
      ],
      "execution_count": 9,
      "outputs": [
        {
          "output_type": "execute_result",
          "data": {
            "text/plain": [
              "$15,000 or $60,000/set     1\n",
              "1,100                      3\n",
              "1,400                      1\n",
              "1,500.00                   1\n",
              "1,700                      1\n",
              "                          ..\n",
              "98.00                      3\n",
              "989                        1\n",
              "99                        11\n",
              "99.00                      2\n",
              "995.00                     1\n",
              "Name: price, Length: 632, dtype: int64"
            ]
          },
          "metadata": {
            "tags": []
          },
          "execution_count": 9
        }
      ]
    },
    {
      "cell_type": "markdown",
      "metadata": {
        "id": "ycF4LmIuyx_n",
        "colab_type": "text"
      },
      "source": [
        "We can see here that price is recorded as a string, as indicative by not only a mixing of what appear to be integers and floats, but also from the entry at the top. \n",
        "\n",
        "'Price' would do better as a numerical feature, but in order to convert it I first needed to deal with the entry with the value \"15,000 or $60,000/set\".  I'm not sure why exactly this entry has a value for purchasing it as a set, but since everything else is cost in USD per bottle that's the value I decided to keep."
      ]
    },
    {
      "cell_type": "code",
      "metadata": {
        "id": "yNVx6YsXqYuP",
        "colab_type": "code",
        "colab": {}
      },
      "source": [
        "#df=scotch_df.copy()"
      ],
      "execution_count": 0,
      "outputs": []
    },
    {
      "cell_type": "code",
      "metadata": {
        "id": "O7cfXpk-jd6x",
        "colab_type": "code",
        "colab": {}
      },
      "source": [
        "#df = df.replace({\"60000/set\":'60000',\"$15,000 or $60,000/set\":'15000',\"44/liter\":'44'})\n",
        "\n",
        "#df.price = df.price.str.replace(\",\",\"\")"
      ],
      "execution_count": 0,
      "outputs": []
    },
    {
      "cell_type": "code",
      "metadata": {
        "id": "pVpltez5qyuc",
        "colab_type": "code",
        "colab": {}
      },
      "source": [
        "#df.price.value_counts()"
      ],
      "execution_count": 0,
      "outputs": []
    },
    {
      "cell_type": "code",
      "metadata": {
        "id": "5bN5vWNZrgFv",
        "colab_type": "code",
        "colab": {}
      },
      "source": [
        "#def clean(text):\n",
        "  #text = text.str.replace({\"60000/set\":'60000', \"$15,000 or $60,000/set\":'15000', \"44/liter\":'44'})\n",
        "  #text = text.str.replace(\",\",\"\")\n",
        "  #return text\n"
      ],
      "execution_count": 0,
      "outputs": []
    },
    {
      "cell_type": "code",
      "metadata": {
        "id": "NomSAYFasBTv",
        "colab_type": "code",
        "colab": {}
      },
      "source": [
        "#df.price=df.price.apply(clean)"
      ],
      "execution_count": 0,
      "outputs": []
    },
    {
      "cell_type": "code",
      "metadata": {
        "id": "bqXtgTnCj-DR",
        "colab_type": "code",
        "colab": {}
      },
      "source": [
        "#df.price.astype(float)"
      ],
      "execution_count": 0,
      "outputs": []
    },
    {
      "cell_type": "code",
      "metadata": {
        "id": "sfbDKCu7pJWf",
        "colab_type": "code",
        "colab": {}
      },
      "source": [
        "#df[df.price=='60000/set']\n"
      ],
      "execution_count": 0,
      "outputs": []
    },
    {
      "cell_type": "code",
      "metadata": {
        "id": "LE_JHueU-FRE",
        "colab_type": "code",
        "colab": {}
      },
      "source": [
        "# prep price entries to be converted to floats\n",
        "scotch_df = scotch_df.replace(to_replace =\"$15,000 or $60,000/set\", \n",
        "                 value =\"15000\")\n",
        "scotch_df = scotch_df.replace(to_replace =\"60000/set\", \n",
        "                              value =\"60000\")\n",
        "scotch_df = scotch_df.replace(to_replace =\"60000/set\", \n",
        "                 value =\"60000\")\n",
        "scotch_df = scotch_df.replace(to_replace =\"44/liter\", \n",
        "                 value =\"44\")\n",
        "scotch_df['price']=scotch_df['price'].str.replace(\",\",\"\")"
      ],
      "execution_count": 0,
      "outputs": []
    },
    {
      "cell_type": "markdown",
      "metadata": {
        "id": "5ysvf4EBEMa-",
        "colab_type": "text"
      },
      "source": [
        "I found two additional instances of similar entries, so I cleaned those while I was at it."
      ]
    },
    {
      "cell_type": "code",
      "metadata": {
        "id": "QYDkQn7IyHic",
        "colab_type": "code",
        "colab": {}
      },
      "source": [
        "scotch_df['price']=scotch_df['price'].astype(float)"
      ],
      "execution_count": 0,
      "outputs": []
    },
    {
      "cell_type": "markdown",
      "metadata": {
        "id": "reO23ECfGZ9N",
        "colab_type": "text"
      },
      "source": [
        "## EDA Visualizations"
      ]
    },
    {
      "cell_type": "markdown",
      "metadata": {
        "id": "uh-A5UIUukxE",
        "colab_type": "text"
      },
      "source": [
        "Ok, so let's take a look at a few comparisions between the features."
      ]
    },
    {
      "cell_type": "code",
      "metadata": {
        "id": "B5JQY6-iEkTK",
        "colab_type": "code",
        "outputId": "ccff11a0-fb12-4378-fed3-08646bd7be38",
        "colab": {
          "base_uri": "https://localhost:8080/",
          "height": 387
        }
      },
      "source": [
        "sns.pairplot(scotch_df);"
      ],
      "execution_count": 22,
      "outputs": [
        {
          "output_type": "display_data",
          "data": {
            "image/png": "[encoded data removed]",
            "text/plain": [
              "<Figure size 360x360 with 6 Axes>"
            ]
          },
          "metadata": {
            "tags": [],
            "needs_background": "light"
          }
        }
      ]
    },
    {
      "cell_type": "markdown",
      "metadata": {
        "id": "2lHDdJmcFSk9",
        "colab_type": "text"
      },
      "source": [
        "There seems to be a number of outliers in price, which make these visualizations hard to read. \n",
        "\n",
        "I could altogether drop them, because these specific whiskies are unobtainable for the vast majorty of whisky drinkers anyway and therefore not useful for the intention of this project. But that seemed a significant number of entries to drop, well over 100.\n",
        "\n",
        "Instead, I opted to try out two different model sets, one that cuts outliers with a price of one thousand dollars or more, and another that raises the cutoff to five thousand."
      ]
    },
    {
      "cell_type": "code",
      "metadata": {
        "id": "BCYKs9J_KIrl",
        "colab_type": "code",
        "colab": {}
      },
      "source": [
        "scotch_1000=scotch_df.drop(scotch_df.loc[scotch_df['price'] > 1000.000000].index)\n",
        "scotch_5000=scotch_df.drop(scotch_df.loc[scotch_df['price'] > 5000.000000].index)"
      ],
      "execution_count": 0,
      "outputs": []
    },
    {
      "cell_type": "markdown",
      "metadata": {
        "id": "9OnHEmUrTtNG",
        "colab_type": "text"
      },
      "source": [
        "###EDA Visualizations for Scotch_1000"
      ]
    },
    {
      "cell_type": "code",
      "metadata": {
        "id": "mtdL9ryDI5I_",
        "colab_type": "code",
        "outputId": "289a9cb5-7d68-435d-9a44-67e6b36de3bc",
        "colab": {
          "base_uri": "https://localhost:8080/",
          "height": 387
        }
      },
      "source": [
        "sns.pairplot(scotch_1000);"
      ],
      "execution_count": 24,
      "outputs": [
        {
          "output_type": "display_data",
          "data": {
            "image/png": "[encoded data removed]",
            "text/plain": [
              "<Figure size 360x360 with 6 Axes>"
            ]
          },
          "metadata": {
            "tags": [],
            "needs_background": "light"
          }
        }
      ]
    },
    {
      "cell_type": "code",
      "metadata": {
        "id": "fvUaIWNBteOJ",
        "colab_type": "code",
        "outputId": "5e029b35-5607-49b3-dab6-dc933450d5d4",
        "colab": {
          "base_uri": "https://localhost:8080/",
          "height": 265
        }
      },
      "source": [
        "satisfaction_type = pd.crosstab(scotch_1000['category'], scotch_1000['satisfaction_rating'])\n",
        "satisfaction_type.plot(kind='barh', stacked=True);"
      ],
      "execution_count": 25,
      "outputs": [
        {
          "output_type": "display_data",
          "data": {
            "image/png": "[encoded data removed]",
            "text/plain": [
              "<Figure size 432x288 with 1 Axes>"
            ]
          },
          "metadata": {
            "tags": [],
            "needs_background": "light"
          }
        }
      ]
    },
    {
      "cell_type": "code",
      "metadata": {
        "id": "EXM9iUY6JLNj",
        "colab_type": "code",
        "outputId": "6d20a5f5-0cad-45db-b30b-475ad2a61f5b",
        "colab": {
          "base_uri": "https://localhost:8080/",
          "height": 637
        }
      },
      "source": [
        "scotch_1000.boxplot(column='price', by='category', rot=45, figsize=(10,8));"
      ],
      "execution_count": 26,
      "outputs": [
        {
          "output_type": "display_data",
          "data": {
            "image/png": "[encoded data removed]",
            "text/plain": [
              "<Figure size 720x576 with 1 Axes>"
            ]
          },
          "metadata": {
            "tags": [],
            "needs_background": "light"
          }
        }
      ]
    },
    {
      "cell_type": "code",
      "metadata": {
        "id": "HQQpSKDour-V",
        "colab_type": "code",
        "outputId": "9a61f712-1b29-4333-adb2-3779eea563a1",
        "colab": {
          "base_uri": "https://localhost:8080/",
          "height": 637
        }
      },
      "source": [
        "scotch_1000.boxplot(column='review_point', by='category', rot=45, figsize=(10,8));"
      ],
      "execution_count": 27,
      "outputs": [
        {
          "output_type": "display_data",
          "data": {
            "image/png": "[encoded data removed]",
            "text/plain": [
              "<Figure size 720x576 with 1 Axes>"
            ]
          },
          "metadata": {
            "tags": [],
            "needs_background": "light"
          }
        }
      ]
    },
    {
      "cell_type": "markdown",
      "metadata": {
        "id": "E-cQjVkBw4Er",
        "colab_type": "text"
      },
      "source": [
        "I noticed here that the first four boxes are similar, but Single Malt Scotch seems to have a disproportionately high number of outliers. Generally speaking, when people think of scotch they think of single malts. Perhaps there is just a disproportionately larger amount of these in our dataset to begin with? Looking at the original dataset, I got the following results:"
      ]
    },
    {
      "cell_type": "code",
      "metadata": {
        "id": "Lu9oOyePxT-n",
        "colab_type": "code",
        "outputId": "b1870c7a-c4ab-423c-ca0b-cad03dcaea7f",
        "colab": {
          "base_uri": "https://localhost:8080/",
          "height": 126
        }
      },
      "source": [
        "scotch_df['category'].value_counts()"
      ],
      "execution_count": 28,
      "outputs": [
        {
          "output_type": "execute_result",
          "data": {
            "text/plain": [
              "Single Malt Scotch            1819\n",
              "Blended Scotch Whisky          211\n",
              "Blended Malt Scotch Whisky     132\n",
              "Single Grain Whisky             57\n",
              "Grain Scotch Whisky             28\n",
              "Name: category, dtype: int64"
            ]
          },
          "metadata": {
            "tags": []
          },
          "execution_count": 28
        }
      ]
    },
    {
      "cell_type": "markdown",
      "metadata": {
        "id": "yVxTt1FjxYxR",
        "colab_type": "text"
      },
      "source": [
        "Single Malts are almost nine times as numerous as the next largest category, Blended Scotch. That probably accounts for it.\n",
        "\n",
        "In this case, I used the original scotch_df to see the distribution of categories, but I also wanted to see how it changed for scotch_1000 and scotch_5000. It looks like the majority of high-cost scotched were also Single Malts."
      ]
    },
    {
      "cell_type": "code",
      "metadata": {
        "id": "vFE3bb9GUY71",
        "colab_type": "code",
        "outputId": "465e22d3-925f-411a-f72b-2d0ffa46f8d1",
        "colab": {
          "base_uri": "https://localhost:8080/",
          "height": 126
        }
      },
      "source": [
        "scotch_1000['category'].value_counts()"
      ],
      "execution_count": 29,
      "outputs": [
        {
          "output_type": "execute_result",
          "data": {
            "text/plain": [
              "Single Malt Scotch            1694\n",
              "Blended Scotch Whisky          201\n",
              "Blended Malt Scotch Whisky     130\n",
              "Single Grain Whisky             55\n",
              "Grain Scotch Whisky             27\n",
              "Name: category, dtype: int64"
            ]
          },
          "metadata": {
            "tags": []
          },
          "execution_count": 29
        }
      ]
    },
    {
      "cell_type": "code",
      "metadata": {
        "id": "j2_qM8eIUZH-",
        "colab_type": "code",
        "outputId": "43e0830a-3a4c-4a39-db5d-ab9253dc3343",
        "colab": {
          "base_uri": "https://localhost:8080/",
          "height": 126
        }
      },
      "source": [
        "scotch_5000['category'].value_counts()"
      ],
      "execution_count": 30,
      "outputs": [
        {
          "output_type": "execute_result",
          "data": {
            "text/plain": [
              "Single Malt Scotch            1783\n",
              "Blended Scotch Whisky          210\n",
              "Blended Malt Scotch Whisky     132\n",
              "Single Grain Whisky             57\n",
              "Grain Scotch Whisky             28\n",
              "Name: category, dtype: int64"
            ]
          },
          "metadata": {
            "tags": []
          },
          "execution_count": 30
        }
      ]
    },
    {
      "cell_type": "markdown",
      "metadata": {
        "id": "Ltcy5qQOIZWT",
        "colab_type": "text"
      },
      "source": [
        "###EDA Visualizations for Scotch_5000"
      ]
    },
    {
      "cell_type": "markdown",
      "metadata": {
        "id": "zssZQ83fIj5r",
        "colab_type": "text"
      },
      "source": [
        "I was curious to see how these same visualizations might change due to the raised cutoff for outlier values."
      ]
    },
    {
      "cell_type": "code",
      "metadata": {
        "id": "vHaSCZuBIya4",
        "colab_type": "code",
        "outputId": "91994339-6210-4e23-8a91-c577abec3c5c",
        "colab": {
          "base_uri": "https://localhost:8080/",
          "height": 265
        }
      },
      "source": [
        "satisfaction_type = pd.crosstab(scotch_5000['category'], scotch_5000['satisfaction_rating'])\n",
        "satisfaction_type.plot(kind='barh', stacked=True);"
      ],
      "execution_count": 31,
      "outputs": [
        {
          "output_type": "display_data",
          "data": {
            "image/png": "[encoded data removed]",
            "text/plain": [
              "<Figure size 432x288 with 1 Axes>"
            ]
          },
          "metadata": {
            "tags": [],
            "needs_background": "light"
          }
        }
      ]
    },
    {
      "cell_type": "code",
      "metadata": {
        "id": "-EwTH-RjIyil",
        "colab_type": "code",
        "outputId": "d1b06f05-dba2-45ab-a1f4-90883cb795fd",
        "colab": {
          "base_uri": "https://localhost:8080/",
          "height": 637
        }
      },
      "source": [
        "scotch_5000.boxplot(column='price', by='category', rot=45, figsize=(10,8));"
      ],
      "execution_count": 32,
      "outputs": [
        {
          "output_type": "display_data",
          "data": {
            "image/png": "[encoded data removed]",
            "text/plain": [
              "<Figure size 720x576 with 1 Axes>"
            ]
          },
          "metadata": {
            "tags": [],
            "needs_background": "light"
          }
        }
      ]
    },
    {
      "cell_type": "code",
      "metadata": {
        "id": "co1K46WFIyp7",
        "colab_type": "code",
        "outputId": "d777d2f5-1b1a-41b1-9f11-518aef2a2211",
        "colab": {
          "base_uri": "https://localhost:8080/",
          "height": 637
        }
      },
      "source": [
        "scotch_5000.boxplot(column='review_point', by='category', rot=45, figsize=(10,8));"
      ],
      "execution_count": 33,
      "outputs": [
        {
          "output_type": "display_data",
          "data": {
            "image/png": "[encoded data removed]",
            "text/plain": [
              "<Figure size 720x576 with 1 Axes>"
            ]
          },
          "metadata": {
            "tags": [],
            "needs_background": "light"
          }
        }
      ]
    },
    {
      "cell_type": "markdown",
      "metadata": {
        "id": "FBREnWu-JArJ",
        "colab_type": "text"
      },
      "source": [
        "The first and third visualizations did not change by much, but we can see how much the outliers affect the price to category box-plot comparison."
      ]
    },
    {
      "cell_type": "markdown",
      "metadata": {
        "id": "bSY-T6fNYEaD",
        "colab_type": "text"
      },
      "source": [
        "#Train/Val/Test Split\n",
        "\n",
        "*Note: here on out I will be primarily using the created scotch_1000 dataset, except where otherwise noted.*"
      ]
    },
    {
      "cell_type": "code",
      "metadata": {
        "id": "11LCJblL0RBs",
        "colab_type": "code",
        "outputId": "e2f7dc6f-b6ea-4a3c-a6ba-8fb4d6402835",
        "colab": {
          "base_uri": "https://localhost:8080/",
          "height": 35
        }
      },
      "source": [
        "from sklearn.model_selection import train_test_split\n",
        "\n",
        "train, test = train_test_split(scotch_1000, train_size=0.80, test_size=0.20, stratify=scotch_1000['satisfaction_rating'], random_state=55)\n",
        "\n",
        "train.shape, test.shape"
      ],
      "execution_count": 34,
      "outputs": [
        {
          "output_type": "execute_result",
          "data": {
            "text/plain": [
              "((1685, 7), (422, 7))"
            ]
          },
          "metadata": {
            "tags": []
          },
          "execution_count": 34
        }
      ]
    },
    {
      "cell_type": "markdown",
      "metadata": {
        "id": "NAyPsWod95HC",
        "colab_type": "text"
      },
      "source": [
        "Here, I opted to split the data into just training and test datasets. I will be using cross validation in my pipeline, which will provide my validation data. "
      ]
    },
    {
      "cell_type": "code",
      "metadata": {
        "id": "GOoLI4UX1pqx",
        "colab_type": "code",
        "outputId": "4b148675-2318-4228-85cc-1c011a755a92",
        "colab": {
          "base_uri": "https://localhost:8080/",
          "height": 108
        }
      },
      "source": [
        "train['satisfaction_rating'].value_counts(normalize=True)"
      ],
      "execution_count": 35,
      "outputs": [
        {
          "output_type": "execute_result",
          "data": {
            "text/plain": [
              "Good         0.282493\n",
              "Fair         0.271810\n",
              "Excellent    0.228487\n",
              "Poor         0.217211\n",
              "Name: satisfaction_rating, dtype: float64"
            ]
          },
          "metadata": {
            "tags": []
          },
          "execution_count": 35
        }
      ]
    },
    {
      "cell_type": "markdown",
      "metadata": {
        "id": "-zCDZp4E2DEC",
        "colab_type": "text"
      },
      "source": [
        "The satisfaction rating value_counts (normalized) are similar to what was represented by the original dataset. There is some difference, which is to be expected, but it is marginally skewed towards more Good, Fair, and Poor ratings and less Excellent ratings.\n",
        "\n",
        "If we were to look at our training dataset alone, our majority class does not change it's class, but it does increase to 28.25%."
      ]
    },
    {
      "cell_type": "code",
      "metadata": {
        "id": "OBpwoKZGQhl-",
        "colab_type": "code",
        "colab": {}
      },
      "source": [
        "# train/val split for use with Logistic Regression and Random Forest without\n",
        "# cross validation\n",
        "trainLR, val = train_test_split(train, train_size=0.80, test_size=0.20, stratify=train['satisfaction_rating'], random_state=55)"
      ],
      "execution_count": 0,
      "outputs": []
    },
    {
      "cell_type": "markdown",
      "metadata": {
        "id": "AJCl0W0iX9zi",
        "colab_type": "text"
      },
      "source": [
        "##Feature Engineering"
      ]
    },
    {
      "cell_type": "markdown",
      "metadata": {
        "id": "tyWJWXLA7VpK",
        "colab_type": "text"
      },
      "source": [
        "Two common characteristics of whiskies that are often sought are the alcohol by volume, or ABV, and whether or not the whisky has an age statement. Neither of these two are represented by a feature on their own, but are rather included in the name feature of the original dataset. \n",
        "\n",
        "I extracted both of these characteristics and put them into thier own features. While ABV is required by law to be on the label (and is therefore included in each entry), age statements are not. Furthermore, not all whiskies have an identifiable age to state. In the cases where age statement was missing, I gave it a value of \"No Age Statement\"."
      ]
    },
    {
      "cell_type": "code",
      "metadata": {
        "id": "x0hplvuh2hMe",
        "colab_type": "code",
        "colab": {}
      },
      "source": [
        "def wrangle(X):\n",
        "  ''' Wrangle train and test sets in the same way'''\n",
        "\n",
        "  # Prevent SettingWithCopyWarning\n",
        "  X = X.copy()\n",
        "\n",
        "  # Currency is the same value for every entry, giving us no actionable information.\n",
        "  # Drop review_point to prevent data leakage with the satisfaction_rating feature\n",
        "  X=X.drop(columns=['currency', 'review_point'])\n",
        "\n",
        "  # Extract the ABV from the name feature and put it into a new feature\n",
        "  X['alcohol_by_volume']=X['name'].str.extract(pat = '([0-9][0-9.]+%)')\n",
        "  X['alcohol_by_volume'] = X['alcohol_by_volume'].str.strip('%').astype(float)\n",
        "\n",
        "  # Extract from name feature if there is an age statement\n",
        "  X['age']=X['name'].str.extract(pat = '([0-9][0-9] year)')\n",
        "  X['age']=X['age'].fillna('No Age Statement')\n",
        "\n",
        "  # Return wrangled dataframe\n",
        "  return X\n",
        "\n",
        "train = wrangle(train)\n",
        "test = wrangle(test)\n",
        "trainLR = wrangle(trainLR)\n",
        "val = wrangle(val)"
      ],
      "execution_count": 0,
      "outputs": []
    },
    {
      "cell_type": "code",
      "metadata": {
        "id": "YRaEzAP68xpF",
        "colab_type": "code",
        "outputId": "39662fc3-f4ff-4cca-dcd2-f900ee6d6117",
        "colab": {
          "base_uri": "https://localhost:8080/",
          "height": 35
        }
      },
      "source": [
        "# The target is the satisfaction_rating feature\n",
        "target = 'satisfaction_rating'\n",
        "\n",
        "# Get a dataframe with all train features except target\n",
        "train_features = train.drop(columns=[target])\n",
        "\n",
        "# Get a list of numeric features\n",
        "numeric_features = train_features.select_dtypes(include='number').columns.tolist()\n",
        "\n",
        "# Get a series with the cardinality of nonnumeric features, then a list of all\n",
        "# with a cardinality <=225\n",
        "cardinality = train_features.select_dtypes(exclude='number').nunique()\n",
        "categorical_features = cardinality[cardinality<=225].index.tolist()\n",
        "\n",
        "# Combine lists\n",
        "features = numeric_features + categorical_features\n",
        "print(features)"
      ],
      "execution_count": 38,
      "outputs": [
        {
          "output_type": "stream",
          "text": [
            "['price', 'alcohol_by_volume', 'category', 'age']\n"
          ],
          "name": "stdout"
        }
      ]
    },
    {
      "cell_type": "code",
      "metadata": {
        "id": "SEAVbMhP-FTB",
        "colab_type": "code",
        "colab": {}
      },
      "source": [
        "# Arrange data into X feature matrix and y target vector\n",
        "X_train = train[features]\n",
        "X_test = test[features]\n",
        "y_train=train[target]\n",
        "y_test=test[target]\n",
        "\n",
        "X_trainLR=trainLR[features]\n",
        "X_val=val[features]\n",
        "y_trainLR=trainLR[target]\n",
        "y_val=val[target]"
      ],
      "execution_count": 0,
      "outputs": []
    },
    {
      "cell_type": "code",
      "metadata": {
        "id": "O7UrmhzyV9Cm",
        "colab_type": "code",
        "outputId": "2ef34082-62e5-4591-c3ad-f04ad261ae51",
        "colab": {
          "base_uri": "https://localhost:8080/",
          "height": 35
        }
      },
      "source": [
        "X_train.shape"
      ],
      "execution_count": 40,
      "outputs": [
        {
          "output_type": "execute_result",
          "data": {
            "text/plain": [
              "(1685, 4)"
            ]
          },
          "metadata": {
            "tags": []
          },
          "execution_count": 40
        }
      ]
    },
    {
      "cell_type": "markdown",
      "metadata": {
        "id": "ltPpAO76UgUJ",
        "colab_type": "text"
      },
      "source": [
        "###Permutation Importance"
      ]
    },
    {
      "cell_type": "markdown",
      "metadata": {
        "id": "cNDl0TmmYMwD",
        "colab_type": "text"
      },
      "source": [
        "Even though I only have four features, I decided to run a Permutation Importance as a just-in-case sort of thing."
      ]
    },
    {
      "cell_type": "code",
      "metadata": {
        "id": "J3OPVYYRUpNE",
        "colab_type": "code",
        "outputId": "8ded3dda-99ed-4b11-9035-e961670ce958",
        "colab": {
          "base_uri": "https://localhost:8080/",
          "height": 163
        }
      },
      "source": [
        "# transform train data for use with eli5 library's PermutationImportance\n",
        "import category_encoders as ce\n",
        "from sklearn.impute import SimpleImputer\n",
        "from sklearn.pipeline import make_pipeline\n",
        "from sklearn.ensemble import RandomForestClassifier\n",
        "\n",
        "transformers = make_pipeline(\n",
        "    ce.ordinal.OrdinalEncoder(),\n",
        "    SimpleImputer(strategy='median')\n",
        ")\n",
        "X_trainLR_transformed = transformers.fit_transform(X_trainLR)\n",
        "X_val_transformed = transformers.transform(X_val)\n",
        "\n",
        "model = RandomForestClassifier(n_estimators=100, random_state=42, n_jobs=-1)\n",
        "model.fit(X_trainLR_transformed, y_trainLR)"
      ],
      "execution_count": 41,
      "outputs": [
        {
          "output_type": "execute_result",
          "data": {
            "text/plain": [
              "RandomForestClassifier(bootstrap=True, ccp_alpha=0.0, class_weight=None,\n",
              "                       criterion='gini', max_depth=None, max_features='auto',\n",
              "                       max_leaf_nodes=None, max_samples=None,\n",
              "                       min_impurity_decrease=0.0, min_impurity_split=None,\n",
              "                       min_samples_leaf=1, min_samples_split=2,\n",
              "                       min_weight_fraction_leaf=0.0, n_estimators=100,\n",
              "                       n_jobs=-1, oob_score=False, random_state=42, verbose=0,\n",
              "                       warm_start=False)"
            ]
          },
          "metadata": {
            "tags": []
          },
          "execution_count": 41
        }
      ]
    },
    {
      "cell_type": "code",
      "metadata": {
        "id": "mloK05vkV0Nz",
        "colab_type": "code",
        "outputId": "d8cbd5d7-44ec-4453-b863-87278eae8252",
        "colab": {
          "base_uri": "https://localhost:8080/",
          "height": 528
        }
      },
      "source": [
        "# import, instantiate, and fit permuter\n",
        "import eli5\n",
        "from eli5.sklearn import PermutationImportance\n",
        "\n",
        "permuter = PermutationImportance(\n",
        "    model,\n",
        "    scoring='accuracy',\n",
        "    random_state=42\n",
        ")\n",
        "\n",
        "permuter.fit(X_val_transformed, y_val)"
      ],
      "execution_count": 42,
      "outputs": [
        {
          "output_type": "stream",
          "text": [
            "/usr/local/lib/python3.6/dist-packages/sklearn/utils/deprecation.py:144: FutureWarning: The sklearn.metrics.scorer module is  deprecated in version 0.22 and will be removed in version 0.24. The corresponding classes / functions should instead be imported from sklearn.metrics. Anything that cannot be imported from sklearn.metrics is now part of the private API.\n",
            "  warnings.warn(message, FutureWarning)\n",
            "/usr/local/lib/python3.6/dist-packages/sklearn/utils/deprecation.py:144: FutureWarning: The sklearn.feature_selection.base module is  deprecated in version 0.22 and will be removed in version 0.24. The corresponding classes / functions should instead be imported from sklearn.feature_selection. Anything that cannot be imported from sklearn.feature_selection is now part of the private API.\n",
            "  warnings.warn(message, FutureWarning)\n",
            "Using TensorFlow backend.\n"
          ],
          "name": "stderr"
        },
        {
          "output_type": "execute_result",
          "data": {
            "text/plain": [
              "PermutationImportance(cv='prefit',\n",
              "                      estimator=RandomForestClassifier(bootstrap=True,\n",
              "                                                       ccp_alpha=0.0,\n",
              "                                                       class_weight=None,\n",
              "                                                       criterion='gini',\n",
              "                                                       max_depth=None,\n",
              "                                                       max_features='auto',\n",
              "                                                       max_leaf_nodes=None,\n",
              "                                                       max_samples=None,\n",
              "                                                       min_impurity_decrease=0.0,\n",
              "                                                       min_impurity_split=None,\n",
              "                                                       min_samples_leaf=1,\n",
              "                                                       min_samples_split=2,\n",
              "                                                       min_weight_fraction_leaf=0.0,\n",
              "                                                       n_estimators=100,\n",
              "                                                       n_jobs=-1,\n",
              "                                                       oob_score=False,\n",
              "                                                       random_state=42,\n",
              "                                                       verbose=0,\n",
              "                                                       warm_start=False),\n",
              "                      n_iter=5, random_state=42, refit=True,\n",
              "                      scoring='accuracy')"
            ]
          },
          "metadata": {
            "tags": []
          },
          "execution_count": 42
        }
      ]
    },
    {
      "cell_type": "code",
      "metadata": {
        "id": "gviwAUPuWSZX",
        "colab_type": "code",
        "outputId": "f1b529d5-2618-47e7-f2f6-e082b1b8625b",
        "colab": {
          "base_uri": "https://localhost:8080/",
          "height": 108
        }
      },
      "source": [
        "feature_names = X_val.columns.tolist()\n",
        "pd.Series(permuter.feature_importances_, feature_names).sort_values()"
      ],
      "execution_count": 43,
      "outputs": [
        {
          "output_type": "execute_result",
          "data": {
            "text/plain": [
              "category             0.007122\n",
              "age                  0.034421\n",
              "alcohol_by_volume    0.055193\n",
              "price                0.062315\n",
              "dtype: float64"
            ]
          },
          "metadata": {
            "tags": []
          },
          "execution_count": 43
        }
      ]
    },
    {
      "cell_type": "code",
      "metadata": {
        "id": "t_r9HEovXYee",
        "colab_type": "code",
        "outputId": "7a88886a-b43b-4277-c81e-1fb713774faf",
        "colab": {
          "base_uri": "https://localhost:8080/",
          "height": 35
        }
      },
      "source": [
        "# create a mask from permuter\n",
        "minimum_importance = 0\n",
        "mask = permuter.feature_importances_ > minimum_importance\n",
        "mask"
      ],
      "execution_count": 44,
      "outputs": [
        {
          "output_type": "execute_result",
          "data": {
            "text/plain": [
              "array([ True,  True,  True,  True])"
            ]
          },
          "metadata": {
            "tags": []
          },
          "execution_count": 44
        }
      ]
    },
    {
      "cell_type": "markdown",
      "metadata": {
        "id": "dUDf9uFmYZPZ",
        "colab_type": "text"
      },
      "source": [
        "As expected, I found that there was no features to mask from the dataset, so I moved on to making my models."
      ]
    },
    {
      "cell_type": "markdown",
      "metadata": {
        "id": "MpBYy9IAHHa3",
        "colab_type": "text"
      },
      "source": [
        "#Logistic Regression"
      ]
    },
    {
      "cell_type": "markdown",
      "metadata": {
        "id": "bTbUPDenQMDs",
        "colab_type": "text"
      },
      "source": [
        "My linear model utilizes Logistic Regression to predict the satisfaction rating of the test observations. Unlinke my later models, I needed to split the training data into training and validation datasets. I chose to split these randomly at 80%/20% train/validation. "
      ]
    },
    {
      "cell_type": "markdown",
      "metadata": {
        "id": "gmsU-NR5Qa6w",
        "colab_type": "text"
      },
      "source": [
        "##Model Pipeline: Logistic Regression"
      ]
    },
    {
      "cell_type": "code",
      "metadata": {
        "id": "mV4u9uThgXQ_",
        "colab_type": "code",
        "outputId": "2c7654eb-164c-43eb-9c21-ed9b35b05c63",
        "colab": {
          "base_uri": "https://localhost:8080/",
          "height": 54
        }
      },
      "source": [
        "from sklearn.preprocessing import StandardScaler\n",
        "from sklearn.linear_model import LogisticRegression\n",
        "\n",
        "LR_pipe = make_pipeline(ce.OneHotEncoder(use_cat_names=True),\n",
        "                         SimpleImputer(), StandardScaler(),\n",
        "                        LogisticRegression(multi_class='auto', solver='lbfgs', n_jobs=-1))\n",
        "\n",
        "LR_pipe.fit(X_trainLR, y_trainLR)\n",
        "print(f'Train accuracy: {LR_pipe.score(X_trainLR, y_trainLR)}')\n",
        "print(f'Validation accuracy: {LR_pipe.score(X_val, y_val)}')"
      ],
      "execution_count": 45,
      "outputs": [
        {
          "output_type": "stream",
          "text": [
            "Train accuracy: 0.3879821958456973\n",
            "Validation accuracy: 0.31750741839762614\n"
          ],
          "name": "stdout"
        }
      ]
    },
    {
      "cell_type": "markdown",
      "metadata": {
        "id": "uWDVuUBZiq2e",
        "colab_type": "text"
      },
      "source": [
        "##Logistic Regression Evaluation"
      ]
    },
    {
      "cell_type": "code",
      "metadata": {
        "id": "aJzu3eHKiUsw",
        "colab_type": "code",
        "outputId": "d77e8dec-9b67-46de-f852-aec84c47229b",
        "colab": {
          "base_uri": "https://localhost:8080/",
          "height": 35
        }
      },
      "source": [
        "from sklearn.metrics import accuracy_score\n",
        "\n",
        "y_pred_LR = LR_pipe.predict(X_test)\n",
        "print(f'Prediction accuracy: {accuracy_score(y_test, y_pred_LR)}')"
      ],
      "execution_count": 46,
      "outputs": [
        {
          "output_type": "stream",
          "text": [
            "Prediction accuracy: 0.3033175355450237\n"
          ],
          "name": "stdout"
        }
      ]
    },
    {
      "cell_type": "code",
      "metadata": {
        "id": "ubooSf88ZNdE",
        "colab_type": "code",
        "outputId": "0358aa3e-58a0-4483-ca67-1332433bee35",
        "colab": {
          "base_uri": "https://localhost:8080/",
          "height": 315
        }
      },
      "source": [
        "from sklearn.metrics import plot_confusion_matrix\n",
        "\n",
        "plot_confusion_matrix(LR_pipe, X_test, y_test, normalize='true',\n",
        "                      xticks_rotation='vertical', cmap='Blues');"
      ],
      "execution_count": 47,
      "outputs": [
        {
          "output_type": "display_data",
          "data": {
            "image/png": "[encoded data removed]",
            "text/plain": [
              "<Figure size 432x288 with 2 Axes>"
            ]
          },
          "metadata": {
            "tags": [],
            "needs_background": "light"
          }
        }
      ]
    },
    {
      "cell_type": "markdown",
      "metadata": {
        "id": "SXtu9ovAGDii",
        "colab_type": "text"
      },
      "source": [
        "#Random Forest Classification with Cross Validation"
      ]
    },
    {
      "cell_type": "markdown",
      "metadata": {
        "id": "1MtKIvocIDOf",
        "colab_type": "text"
      },
      "source": [
        "For my tree-based model, I decided to utilize a Random Forest with Cross Validation. This classification model is ideal for this useage due to the multi-class nature of the classification. It also allows for a more accurate model compared to a single Decision Tree model. \n",
        "\n",
        "Because of the use of cross validation, the training dataset did not need to be split into train and validation datasets."
      ]
    },
    {
      "cell_type": "markdown",
      "metadata": {
        "id": "c82jpjYlYIWx",
        "colab_type": "text"
      },
      "source": [
        "##Model Pipeline: Random Forest with Cross Validation\n"
      ]
    },
    {
      "cell_type": "code",
      "metadata": {
        "id": "DTTbEq4W_JYg",
        "colab_type": "code",
        "outputId": "afd6151b-1d6e-417c-f6f7-d10477ef9c19",
        "colab": {
          "base_uri": "https://localhost:8080/",
          "height": 72
        }
      },
      "source": [
        "# Make a pipeline for the model\n",
        "from sklearn.model_selection import cross_val_score\n",
        "\n",
        "CVRF_pipe = make_pipeline(ce.ordinal.OrdinalEncoder(),\n",
        "                          SimpleImputer(strategy='median'),\n",
        "                          RandomForestClassifier(n_estimators=100, n_jobs=-1, random_state=55)\n",
        "                          )\n",
        "\n",
        "k=18\n",
        "scores = cross_val_score(CVRF_pipe, X_train, y_train, cv=k, scoring='accuracy')\n",
        "print(f'Accuracy for {k} folds:', scores)"
      ],
      "execution_count": 48,
      "outputs": [
        {
          "output_type": "stream",
          "text": [
            "Accuracy for 18 folds: [0.25531915 0.30851064 0.36170213 0.30851064 0.32978723 0.39361702\n",
            " 0.34042553 0.38297872 0.38297872 0.38297872 0.34042553 0.31182796\n",
            " 0.30107527 0.3655914  0.2688172  0.34408602 0.35483871 0.32258065]\n"
          ],
          "name": "stdout"
        }
      ]
    },
    {
      "cell_type": "code",
      "metadata": {
        "id": "K3KKTnepCQM8",
        "colab_type": "code",
        "outputId": "e4e25204-e7e6-44cf-de25-4fc14fa490bc",
        "colab": {
          "base_uri": "https://localhost:8080/",
          "height": 308
        }
      },
      "source": [
        "from scipy.stats import randint, uniform\n",
        "from sklearn.model_selection import RandomizedSearchCV\n",
        "\n",
        "param_distributions = { \n",
        "    'simpleimputer__strategy': ['mean', 'median'], \n",
        "    'randomforestclassifier__n_estimators': randint(50, 500), \n",
        "    'randomforestclassifier__max_depth': [5, 10, 15, 20, None], \n",
        "    'randomforestclassifier__max_features': uniform(0, 1), \n",
        "}\n",
        "\n",
        "search = RandomizedSearchCV(\n",
        "    CVRF_pipe, \n",
        "    param_distributions=param_distributions, \n",
        "    n_iter=25, \n",
        "    cv=5, \n",
        "    scoring='accuracy', \n",
        "    verbose=10, \n",
        "    return_train_score=True, \n",
        "    n_jobs=-1\n",
        ")\n",
        "\n",
        "search.fit(X_train, y_train);"
      ],
      "execution_count": 49,
      "outputs": [
        {
          "output_type": "stream",
          "text": [
            "Fitting 5 folds for each of 25 candidates, totalling 125 fits\n"
          ],
          "name": "stdout"
        },
        {
          "output_type": "stream",
          "text": [
            "[Parallel(n_jobs=-1)]: Using backend LokyBackend with 2 concurrent workers.\n",
            "[Parallel(n_jobs=-1)]: Done   1 tasks      | elapsed:    1.8s\n",
            "[Parallel(n_jobs=-1)]: Done   4 tasks      | elapsed:    3.0s\n",
            "[Parallel(n_jobs=-1)]: Done   9 tasks      | elapsed:    5.3s\n",
            "[Parallel(n_jobs=-1)]: Done  14 tasks      | elapsed:   10.2s\n",
            "[Parallel(n_jobs=-1)]: Done  21 tasks      | elapsed:   16.6s\n",
            "[Parallel(n_jobs=-1)]: Done  28 tasks      | elapsed:   20.3s\n",
            "[Parallel(n_jobs=-1)]: Done  37 tasks      | elapsed:   28.8s\n",
            "[Parallel(n_jobs=-1)]: Done  46 tasks      | elapsed:   35.5s\n",
            "[Parallel(n_jobs=-1)]: Done  57 tasks      | elapsed:   45.8s\n",
            "[Parallel(n_jobs=-1)]: Done  68 tasks      | elapsed:   51.0s\n",
            "[Parallel(n_jobs=-1)]: Done  81 tasks      | elapsed:   59.6s\n",
            "[Parallel(n_jobs=-1)]: Done  94 tasks      | elapsed:  1.1min\n",
            "[Parallel(n_jobs=-1)]: Done 109 tasks      | elapsed:  1.3min\n",
            "[Parallel(n_jobs=-1)]: Done 125 out of 125 | elapsed:  1.5min finished\n"
          ],
          "name": "stderr"
        }
      ]
    },
    {
      "cell_type": "code",
      "metadata": {
        "id": "C-DscsPnD3Ba",
        "colab_type": "code",
        "outputId": "cf24c2b7-743d-4405-84a3-b9d665eba469",
        "colab": {
          "base_uri": "https://localhost:8080/",
          "height": 805
        }
      },
      "source": [
        "pd.DataFrame(search.cv_results_).sort_values(by='rank_test_score').T"
      ],
      "execution_count": 50,
      "outputs": [
        {
          "output_type": "execute_result",
          "data": {
            "text/html": [
              "<div>\n",
              "<style scoped>\n",
              "    .dataframe tbody tr th:only-of-type {\n",
              "        vertical-align: middle;\n",
              "    }\n",
              "\n",
              "    .dataframe tbody tr th {\n",
              "        vertical-align: top;\n",
              "    }\n",
              "\n",
              "    .dataframe thead th {\n",
              "        text-align: right;\n",
              "    }\n",
              "</style>\n",
              "<table border=\"1\" class=\"dataframe\">\n",
              "  <thead>\n",
              "    <tr style=\"text-align: right;\">\n",
              "      <th></th>\n",
              "      <th>17</th>\n",
              "      <th>19</th>\n",
              "      <th>1</th>\n",
              "      <th>4</th>\n",
              "      <th>8</th>\n",
              "      <th>9</th>\n",
              "      <th>13</th>\n",
              "      <th>21</th>\n",
              "      <th>20</th>\n",
              "      <th>3</th>\n",
              "      <th>22</th>\n",
              "      <th>12</th>\n",
              "      <th>18</th>\n",
              "      <th>10</th>\n",
              "      <th>16</th>\n",
              "      <th>24</th>\n",
              "      <th>2</th>\n",
              "      <th>23</th>\n",
              "      <th>15</th>\n",
              "      <th>5</th>\n",
              "      <th>7</th>\n",
              "      <th>11</th>\n",
              "      <th>6</th>\n",
              "      <th>0</th>\n",
              "      <th>14</th>\n",
              "    </tr>\n",
              "  </thead>\n",
              "  <tbody>\n",
              "    <tr>\n",
              "      <th>mean_fit_time</th>\n",
              "      <td>0.997499</td>\n",
              "      <td>1.2222</td>\n",
              "      <td>0.527331</td>\n",
              "      <td>0.951307</td>\n",
              "      <td>1.25579</td>\n",
              "      <td>1.79571</td>\n",
              "      <td>0.357985</td>\n",
              "      <td>0.453544</td>\n",
              "      <td>1.37734</td>\n",
              "      <td>1.28332</td>\n",
              "      <td>0.995608</td>\n",
              "      <td>0.932994</td>\n",
              "      <td>1.04223</td>\n",
              "      <td>1.39888</td>\n",
              "      <td>0.250823</td>\n",
              "      <td>1.382</td>\n",
              "      <td>1.84387</td>\n",
              "      <td>1.82798</td>\n",
              "      <td>0.740199</td>\n",
              "      <td>0.750864</td>\n",
              "      <td>0.595734</td>\n",
              "      <td>0.786822</td>\n",
              "      <td>2.03769</td>\n",
              "      <td>1.00158</td>\n",
              "      <td>1.72235</td>\n",
              "    </tr>\n",
              "    <tr>\n",
              "      <th>std_fit_time</th>\n",
              "      <td>0.0376609</td>\n",
              "      <td>0.0612143</td>\n",
              "      <td>0.0108319</td>\n",
              "      <td>0.030888</td>\n",
              "      <td>0.0485019</td>\n",
              "      <td>0.0398679</td>\n",
              "      <td>0.0384144</td>\n",
              "      <td>0.0468685</td>\n",
              "      <td>0.00484564</td>\n",
              "      <td>0.0453555</td>\n",
              "      <td>0.0340828</td>\n",
              "      <td>0.0488777</td>\n",
              "      <td>0.053932</td>\n",
              "      <td>0.0513676</td>\n",
              "      <td>0.0156128</td>\n",
              "      <td>0.0534695</td>\n",
              "      <td>0.027295</td>\n",
              "      <td>0.0412098</td>\n",
              "      <td>0.025595</td>\n",
              "      <td>0.0348473</td>\n",
              "      <td>0.0382281</td>\n",
              "      <td>0.0376403</td>\n",
              "      <td>0.0680882</td>\n",
              "      <td>0.0642046</td>\n",
              "      <td>0.0907068</td>\n",
              "    </tr>\n",
              "    <tr>\n",
              "      <th>mean_score_time</th>\n",
              "      <td>0.128173</td>\n",
              "      <td>0.110195</td>\n",
              "      <td>0.109352</td>\n",
              "      <td>0.110102</td>\n",
              "      <td>0.188498</td>\n",
              "      <td>0.210786</td>\n",
              "      <td>0.108872</td>\n",
              "      <td>0.107933</td>\n",
              "      <td>0.169762</td>\n",
              "      <td>0.168952</td>\n",
              "      <td>0.107856</td>\n",
              "      <td>0.108825</td>\n",
              "      <td>0.109994</td>\n",
              "      <td>0.170553</td>\n",
              "      <td>0.109042</td>\n",
              "      <td>0.129348</td>\n",
              "      <td>0.209718</td>\n",
              "      <td>0.209822</td>\n",
              "      <td>0.109114</td>\n",
              "      <td>0.110002</td>\n",
              "      <td>0.110044</td>\n",
              "      <td>0.109016</td>\n",
              "      <td>0.209708</td>\n",
              "      <td>0.109518</td>\n",
              "      <td>0.172126</td>\n",
              "    </tr>\n",
              "    <tr>\n",
              "      <th>std_score_time</th>\n",
              "      <td>0.0396075</td>\n",
              "      <td>0.00117161</td>\n",
              "      <td>0.001009</td>\n",
              "      <td>0.000399323</td>\n",
              "      <td>0.0394371</td>\n",
              "      <td>0.00111387</td>\n",
              "      <td>0.00160628</td>\n",
              "      <td>0.00121708</td>\n",
              "      <td>0.0501111</td>\n",
              "      <td>0.0492207</td>\n",
              "      <td>0.000835355</td>\n",
              "      <td>0.00124242</td>\n",
              "      <td>0.00172417</td>\n",
              "      <td>0.0510796</td>\n",
              "      <td>0.00145606</td>\n",
              "      <td>0.0390749</td>\n",
              "      <td>0.00265159</td>\n",
              "      <td>0.00101871</td>\n",
              "      <td>0.00103572</td>\n",
              "      <td>0.00240707</td>\n",
              "      <td>0.0025354</td>\n",
              "      <td>0.0015887</td>\n",
              "      <td>0.00158668</td>\n",
              "      <td>0.00141046</td>\n",
              "      <td>0.0513167</td>\n",
              "    </tr>\n",
              "    <tr>\n",
              "      <th>param_randomforestclassifier__max_depth</th>\n",
              "      <td>5</td>\n",
              "      <td>5</td>\n",
              "      <td>5</td>\n",
              "      <td>5</td>\n",
              "      <td>5</td>\n",
              "      <td>10</td>\n",
              "      <td>10</td>\n",
              "      <td>15</td>\n",
              "      <td>15</td>\n",
              "      <td>None</td>\n",
              "      <td>15</td>\n",
              "      <td>None</td>\n",
              "      <td>None</td>\n",
              "      <td>20</td>\n",
              "      <td>15</td>\n",
              "      <td>20</td>\n",
              "      <td>20</td>\n",
              "      <td>20</td>\n",
              "      <td>20</td>\n",
              "      <td>None</td>\n",
              "      <td>20</td>\n",
              "      <td>None</td>\n",
              "      <td>None</td>\n",
              "      <td>None</td>\n",
              "      <td>20</td>\n",
              "    </tr>\n",
              "    <tr>\n",
              "      <th>param_randomforestclassifier__max_features</th>\n",
              "      <td>0.588975</td>\n",
              "      <td>0.902472</td>\n",
              "      <td>0.561006</td>\n",
              "      <td>0.0307285</td>\n",
              "      <td>0.131107</td>\n",
              "      <td>0.6283</td>\n",
              "      <td>0.580934</td>\n",
              "      <td>0.299705</td>\n",
              "      <td>0.0592272</td>\n",
              "      <td>0.187132</td>\n",
              "      <td>0.632359</td>\n",
              "      <td>0.171473</td>\n",
              "      <td>0.288679</td>\n",
              "      <td>0.23801</td>\n",
              "      <td>0.369312</td>\n",
              "      <td>0.688265</td>\n",
              "      <td>0.700626</td>\n",
              "      <td>0.20255</td>\n",
              "      <td>0.318926</td>\n",
              "      <td>0.58176</td>\n",
              "      <td>0.463871</td>\n",
              "      <td>0.784054</td>\n",
              "      <td>0.955054</td>\n",
              "      <td>0.820902</td>\n",
              "      <td>0.776839</td>\n",
              "    </tr>\n",
              "    <tr>\n",
              "      <th>param_randomforestclassifier__n_estimators</th>\n",
              "      <td>309</td>\n",
              "      <td>349</td>\n",
              "      <td>163</td>\n",
              "      <td>321</td>\n",
              "      <td>417</td>\n",
              "      <td>472</td>\n",
              "      <td>82</td>\n",
              "      <td>102</td>\n",
              "      <td>352</td>\n",
              "      <td>302</td>\n",
              "      <td>222</td>\n",
              "      <td>211</td>\n",
              "      <td>249</td>\n",
              "      <td>340</td>\n",
              "      <td>54</td>\n",
              "      <td>303</td>\n",
              "      <td>406</td>\n",
              "      <td>443</td>\n",
              "      <td>180</td>\n",
              "      <td>153</td>\n",
              "      <td>127</td>\n",
              "      <td>144</td>\n",
              "      <td>401</td>\n",
              "      <td>176</td>\n",
              "      <td>337</td>\n",
              "    </tr>\n",
              "    <tr>\n",
              "      <th>param_simpleimputer__strategy</th>\n",
              "      <td>median</td>\n",
              "      <td>mean</td>\n",
              "      <td>mean</td>\n",
              "      <td>median</td>\n",
              "      <td>median</td>\n",
              "      <td>median</td>\n",
              "      <td>mean</td>\n",
              "      <td>mean</td>\n",
              "      <td>mean</td>\n",
              "      <td>median</td>\n",
              "      <td>median</td>\n",
              "      <td>median</td>\n",
              "      <td>median</td>\n",
              "      <td>median</td>\n",
              "      <td>mean</td>\n",
              "      <td>median</td>\n",
              "      <td>mean</td>\n",
              "      <td>mean</td>\n",
              "      <td>mean</td>\n",
              "      <td>median</td>\n",
              "      <td>mean</td>\n",
              "      <td>mean</td>\n",
              "      <td>mean</td>\n",
              "      <td>median</td>\n",
              "      <td>mean</td>\n",
              "    </tr>\n",
              "    <tr>\n",
              "      <th>params</th>\n",
              "      <td>{'randomforestclassifier__max_depth': 5, 'rand...</td>\n",
              "      <td>{'randomforestclassifier__max_depth': 5, 'rand...</td>\n",
              "      <td>{'randomforestclassifier__max_depth': 5, 'rand...</td>\n",
              "      <td>{'randomforestclassifier__max_depth': 5, 'rand...</td>\n",
              "      <td>{'randomforestclassifier__max_depth': 5, 'rand...</td>\n",
              "      <td>{'randomforestclassifier__max_depth': 10, 'ran...</td>\n",
              "      <td>{'randomforestclassifier__max_depth': 10, 'ran...</td>\n",
              "      <td>{'randomforestclassifier__max_depth': 15, 'ran...</td>\n",
              "      <td>{'randomforestclassifier__max_depth': 15, 'ran...</td>\n",
              "      <td>{'randomforestclassifier__max_depth': None, 'r...</td>\n",
              "      <td>{'randomforestclassifier__max_depth': 15, 'ran...</td>\n",
              "      <td>{'randomforestclassifier__max_depth': None, 'r...</td>\n",
              "      <td>{'randomforestclassifier__max_depth': None, 'r...</td>\n",
              "      <td>{'randomforestclassifier__max_depth': 20, 'ran...</td>\n",
              "      <td>{'randomforestclassifier__max_depth': 15, 'ran...</td>\n",
              "      <td>{'randomforestclassifier__max_depth': 20, 'ran...</td>\n",
              "      <td>{'randomforestclassifier__max_depth': 20, 'ran...</td>\n",
              "      <td>{'randomforestclassifier__max_depth': 20, 'ran...</td>\n",
              "      <td>{'randomforestclassifier__max_depth': 20, 'ran...</td>\n",
              "      <td>{'randomforestclassifier__max_depth': None, 'r...</td>\n",
              "      <td>{'randomforestclassifier__max_depth': 20, 'ran...</td>\n",
              "      <td>{'randomforestclassifier__max_depth': None, 'r...</td>\n",
              "      <td>{'randomforestclassifier__max_depth': None, 'r...</td>\n",
              "      <td>{'randomforestclassifier__max_depth': None, 'r...</td>\n",
              "      <td>{'randomforestclassifier__max_depth': 20, 'ran...</td>\n",
              "    </tr>\n",
              "    <tr>\n",
              "      <th>split0_test_score</th>\n",
              "      <td>0.350148</td>\n",
              "      <td>0.350148</td>\n",
              "      <td>0.347181</td>\n",
              "      <td>0.373887</td>\n",
              "      <td>0.367953</td>\n",
              "      <td>0.353116</td>\n",
              "      <td>0.35905</td>\n",
              "      <td>0.373887</td>\n",
              "      <td>0.376855</td>\n",
              "      <td>0.362018</td>\n",
              "      <td>0.347181</td>\n",
              "      <td>0.350148</td>\n",
              "      <td>0.350148</td>\n",
              "      <td>0.35905</td>\n",
              "      <td>0.350148</td>\n",
              "      <td>0.353116</td>\n",
              "      <td>0.353116</td>\n",
              "      <td>0.367953</td>\n",
              "      <td>0.367953</td>\n",
              "      <td>0.347181</td>\n",
              "      <td>0.356083</td>\n",
              "      <td>0.350148</td>\n",
              "      <td>0.338279</td>\n",
              "      <td>0.341246</td>\n",
              "      <td>0.338279</td>\n",
              "    </tr>\n",
              "    <tr>\n",
              "      <th>split1_test_score</th>\n",
              "      <td>0.400593</td>\n",
              "      <td>0.382789</td>\n",
              "      <td>0.379822</td>\n",
              "      <td>0.382789</td>\n",
              "      <td>0.379822</td>\n",
              "      <td>0.379822</td>\n",
              "      <td>0.373887</td>\n",
              "      <td>0.362018</td>\n",
              "      <td>0.364985</td>\n",
              "      <td>0.385757</td>\n",
              "      <td>0.37092</td>\n",
              "      <td>0.382789</td>\n",
              "      <td>0.379822</td>\n",
              "      <td>0.364985</td>\n",
              "      <td>0.344214</td>\n",
              "      <td>0.362018</td>\n",
              "      <td>0.367953</td>\n",
              "      <td>0.35905</td>\n",
              "      <td>0.35905</td>\n",
              "      <td>0.367953</td>\n",
              "      <td>0.35905</td>\n",
              "      <td>0.367953</td>\n",
              "      <td>0.362018</td>\n",
              "      <td>0.373887</td>\n",
              "      <td>0.362018</td>\n",
              "    </tr>\n",
              "    <tr>\n",
              "      <th>split2_test_score</th>\n",
              "      <td>0.421365</td>\n",
              "      <td>0.424332</td>\n",
              "      <td>0.412463</td>\n",
              "      <td>0.400593</td>\n",
              "      <td>0.397626</td>\n",
              "      <td>0.397626</td>\n",
              "      <td>0.376855</td>\n",
              "      <td>0.367953</td>\n",
              "      <td>0.353116</td>\n",
              "      <td>0.347181</td>\n",
              "      <td>0.367953</td>\n",
              "      <td>0.344214</td>\n",
              "      <td>0.353116</td>\n",
              "      <td>0.344214</td>\n",
              "      <td>0.364985</td>\n",
              "      <td>0.344214</td>\n",
              "      <td>0.344214</td>\n",
              "      <td>0.332344</td>\n",
              "      <td>0.341246</td>\n",
              "      <td>0.329377</td>\n",
              "      <td>0.338279</td>\n",
              "      <td>0.329377</td>\n",
              "      <td>0.335312</td>\n",
              "      <td>0.329377</td>\n",
              "      <td>0.338279</td>\n",
              "    </tr>\n",
              "    <tr>\n",
              "      <th>split3_test_score</th>\n",
              "      <td>0.364985</td>\n",
              "      <td>0.362018</td>\n",
              "      <td>0.373887</td>\n",
              "      <td>0.35905</td>\n",
              "      <td>0.37092</td>\n",
              "      <td>0.347181</td>\n",
              "      <td>0.338279</td>\n",
              "      <td>0.341246</td>\n",
              "      <td>0.350148</td>\n",
              "      <td>0.332344</td>\n",
              "      <td>0.338279</td>\n",
              "      <td>0.341246</td>\n",
              "      <td>0.332344</td>\n",
              "      <td>0.332344</td>\n",
              "      <td>0.329377</td>\n",
              "      <td>0.329377</td>\n",
              "      <td>0.335312</td>\n",
              "      <td>0.332344</td>\n",
              "      <td>0.323442</td>\n",
              "      <td>0.332344</td>\n",
              "      <td>0.323442</td>\n",
              "      <td>0.332344</td>\n",
              "      <td>0.338279</td>\n",
              "      <td>0.317507</td>\n",
              "      <td>0.320475</td>\n",
              "    </tr>\n",
              "    <tr>\n",
              "      <th>split4_test_score</th>\n",
              "      <td>0.326409</td>\n",
              "      <td>0.326409</td>\n",
              "      <td>0.329377</td>\n",
              "      <td>0.320475</td>\n",
              "      <td>0.308605</td>\n",
              "      <td>0.338279</td>\n",
              "      <td>0.338279</td>\n",
              "      <td>0.332344</td>\n",
              "      <td>0.332344</td>\n",
              "      <td>0.332344</td>\n",
              "      <td>0.335312</td>\n",
              "      <td>0.332344</td>\n",
              "      <td>0.323442</td>\n",
              "      <td>0.329377</td>\n",
              "      <td>0.335312</td>\n",
              "      <td>0.332344</td>\n",
              "      <td>0.317507</td>\n",
              "      <td>0.317507</td>\n",
              "      <td>0.31454</td>\n",
              "      <td>0.329377</td>\n",
              "      <td>0.326409</td>\n",
              "      <td>0.320475</td>\n",
              "      <td>0.31454</td>\n",
              "      <td>0.323442</td>\n",
              "      <td>0.317507</td>\n",
              "    </tr>\n",
              "    <tr>\n",
              "      <th>mean_test_score</th>\n",
              "      <td>0.3727</td>\n",
              "      <td>0.369139</td>\n",
              "      <td>0.368546</td>\n",
              "      <td>0.367359</td>\n",
              "      <td>0.364985</td>\n",
              "      <td>0.363205</td>\n",
              "      <td>0.35727</td>\n",
              "      <td>0.35549</td>\n",
              "      <td>0.35549</td>\n",
              "      <td>0.351929</td>\n",
              "      <td>0.351929</td>\n",
              "      <td>0.350148</td>\n",
              "      <td>0.347774</td>\n",
              "      <td>0.345994</td>\n",
              "      <td>0.344807</td>\n",
              "      <td>0.344214</td>\n",
              "      <td>0.34362</td>\n",
              "      <td>0.34184</td>\n",
              "      <td>0.341246</td>\n",
              "      <td>0.341246</td>\n",
              "      <td>0.340653</td>\n",
              "      <td>0.340059</td>\n",
              "      <td>0.337685</td>\n",
              "      <td>0.337092</td>\n",
              "      <td>0.335312</td>\n",
              "    </tr>\n",
              "    <tr>\n",
              "      <th>std_test_score</th>\n",
              "      <td>0.0342264</td>\n",
              "      <td>0.0330751</td>\n",
              "      <td>0.0285484</td>\n",
              "      <td>0.0270274</td>\n",
              "      <td>0.0300276</td>\n",
              "      <td>0.0220944</td>\n",
              "      <td>0.0166384</td>\n",
              "      <td>0.0159687</td>\n",
              "      <td>0.0149432</td>\n",
              "      <td>0.020178</td>\n",
              "      <td>0.0148487</td>\n",
              "      <td>0.0173025</td>\n",
              "      <td>0.0194492</td>\n",
              "      <td>0.0141191</td>\n",
              "      <td>0.0123636</td>\n",
              "      <td>0.0123065</td>\n",
              "      <td>0.0169322</td>\n",
              "      <td>0.0187108</td>\n",
              "      <td>0.0202999</td>\n",
              "      <td>0.014896</td>\n",
              "      <td>0.0147057</td>\n",
              "      <td>0.0169529</td>\n",
              "      <td>0.0150606</td>\n",
              "      <td>0.0200027</td>\n",
              "      <td>0.0159245</td>\n",
              "    </tr>\n",
              "    <tr>\n",
              "      <th>rank_test_score</th>\n",
              "      <td>1</td>\n",
              "      <td>2</td>\n",
              "      <td>3</td>\n",
              "      <td>4</td>\n",
              "      <td>5</td>\n",
              "      <td>6</td>\n",
              "      <td>7</td>\n",
              "      <td>8</td>\n",
              "      <td>8</td>\n",
              "      <td>10</td>\n",
              "      <td>11</td>\n",
              "      <td>12</td>\n",
              "      <td>13</td>\n",
              "      <td>14</td>\n",
              "      <td>15</td>\n",
              "      <td>16</td>\n",
              "      <td>17</td>\n",
              "      <td>18</td>\n",
              "      <td>19</td>\n",
              "      <td>20</td>\n",
              "      <td>21</td>\n",
              "      <td>22</td>\n",
              "      <td>23</td>\n",
              "      <td>24</td>\n",
              "      <td>25</td>\n",
              "    </tr>\n",
              "    <tr>\n",
              "      <th>split0_train_score</th>\n",
              "      <td>0.477003</td>\n",
              "      <td>0.476261</td>\n",
              "      <td>0.469585</td>\n",
              "      <td>0.470326</td>\n",
              "      <td>0.468843</td>\n",
              "      <td>0.732196</td>\n",
              "      <td>0.721068</td>\n",
              "      <td>0.876855</td>\n",
              "      <td>0.884273</td>\n",
              "      <td>0.910237</td>\n",
              "      <td>0.888724</td>\n",
              "      <td>0.910237</td>\n",
              "      <td>0.910237</td>\n",
              "      <td>0.908754</td>\n",
              "      <td>0.872404</td>\n",
              "      <td>0.910237</td>\n",
              "      <td>0.912463</td>\n",
              "      <td>0.911721</td>\n",
              "      <td>0.911721</td>\n",
              "      <td>0.910237</td>\n",
              "      <td>0.911721</td>\n",
              "      <td>0.912463</td>\n",
              "      <td>0.912463</td>\n",
              "      <td>0.910237</td>\n",
              "      <td>0.912463</td>\n",
              "    </tr>\n",
              "    <tr>\n",
              "      <th>split1_train_score</th>\n",
              "      <td>0.477003</td>\n",
              "      <td>0.477003</td>\n",
              "      <td>0.468101</td>\n",
              "      <td>0.467359</td>\n",
              "      <td>0.47181</td>\n",
              "      <td>0.761869</td>\n",
              "      <td>0.742582</td>\n",
              "      <td>0.897626</td>\n",
              "      <td>0.899852</td>\n",
              "      <td>0.909496</td>\n",
              "      <td>0.902819</td>\n",
              "      <td>0.909496</td>\n",
              "      <td>0.909496</td>\n",
              "      <td>0.909496</td>\n",
              "      <td>0.897626</td>\n",
              "      <td>0.909496</td>\n",
              "      <td>0.910979</td>\n",
              "      <td>0.910979</td>\n",
              "      <td>0.910979</td>\n",
              "      <td>0.909496</td>\n",
              "      <td>0.910979</td>\n",
              "      <td>0.910979</td>\n",
              "      <td>0.910979</td>\n",
              "      <td>0.909496</td>\n",
              "      <td>0.910979</td>\n",
              "    </tr>\n",
              "    <tr>\n",
              "      <th>split2_train_score</th>\n",
              "      <td>0.472552</td>\n",
              "      <td>0.474777</td>\n",
              "      <td>0.470326</td>\n",
              "      <td>0.477003</td>\n",
              "      <td>0.480712</td>\n",
              "      <td>0.759644</td>\n",
              "      <td>0.738131</td>\n",
              "      <td>0.895401</td>\n",
              "      <td>0.902077</td>\n",
              "      <td>0.911721</td>\n",
              "      <td>0.902819</td>\n",
              "      <td>0.911721</td>\n",
              "      <td>0.911721</td>\n",
              "      <td>0.911721</td>\n",
              "      <td>0.893917</td>\n",
              "      <td>0.911721</td>\n",
              "      <td>0.913947</td>\n",
              "      <td>0.913947</td>\n",
              "      <td>0.913947</td>\n",
              "      <td>0.911721</td>\n",
              "      <td>0.913947</td>\n",
              "      <td>0.913947</td>\n",
              "      <td>0.913947</td>\n",
              "      <td>0.911721</td>\n",
              "      <td>0.913947</td>\n",
              "    </tr>\n",
              "    <tr>\n",
              "      <th>split3_train_score</th>\n",
              "      <td>0.466617</td>\n",
              "      <td>0.474777</td>\n",
              "      <td>0.47997</td>\n",
              "      <td>0.47997</td>\n",
              "      <td>0.47997</td>\n",
              "      <td>0.768546</td>\n",
              "      <td>0.750742</td>\n",
              "      <td>0.896884</td>\n",
              "      <td>0.89911</td>\n",
              "      <td>0.911721</td>\n",
              "      <td>0.902819</td>\n",
              "      <td>0.911721</td>\n",
              "      <td>0.911721</td>\n",
              "      <td>0.911721</td>\n",
              "      <td>0.889466</td>\n",
              "      <td>0.911721</td>\n",
              "      <td>0.913947</td>\n",
              "      <td>0.913947</td>\n",
              "      <td>0.913947</td>\n",
              "      <td>0.911721</td>\n",
              "      <td>0.913947</td>\n",
              "      <td>0.913947</td>\n",
              "      <td>0.913947</td>\n",
              "      <td>0.911721</td>\n",
              "      <td>0.913947</td>\n",
              "    </tr>\n",
              "    <tr>\n",
              "      <th>split4_train_score</th>\n",
              "      <td>0.468101</td>\n",
              "      <td>0.466617</td>\n",
              "      <td>0.470326</td>\n",
              "      <td>0.469585</td>\n",
              "      <td>0.46365</td>\n",
              "      <td>0.759644</td>\n",
              "      <td>0.761869</td>\n",
              "      <td>0.887982</td>\n",
              "      <td>0.893917</td>\n",
              "      <td>0.904303</td>\n",
              "      <td>0.896142</td>\n",
              "      <td>0.904303</td>\n",
              "      <td>0.904303</td>\n",
              "      <td>0.904303</td>\n",
              "      <td>0.885015</td>\n",
              "      <td>0.904303</td>\n",
              "      <td>0.906528</td>\n",
              "      <td>0.906528</td>\n",
              "      <td>0.906528</td>\n",
              "      <td>0.904303</td>\n",
              "      <td>0.906528</td>\n",
              "      <td>0.906528</td>\n",
              "      <td>0.906528</td>\n",
              "      <td>0.904303</td>\n",
              "      <td>0.906528</td>\n",
              "    </tr>\n",
              "    <tr>\n",
              "      <th>mean_train_score</th>\n",
              "      <td>0.472255</td>\n",
              "      <td>0.473887</td>\n",
              "      <td>0.471662</td>\n",
              "      <td>0.472849</td>\n",
              "      <td>0.472997</td>\n",
              "      <td>0.75638</td>\n",
              "      <td>0.742878</td>\n",
              "      <td>0.89095</td>\n",
              "      <td>0.895846</td>\n",
              "      <td>0.909496</td>\n",
              "      <td>0.898665</td>\n",
              "      <td>0.909496</td>\n",
              "      <td>0.909496</td>\n",
              "      <td>0.909199</td>\n",
              "      <td>0.887685</td>\n",
              "      <td>0.909496</td>\n",
              "      <td>0.911573</td>\n",
              "      <td>0.911424</td>\n",
              "      <td>0.911424</td>\n",
              "      <td>0.909496</td>\n",
              "      <td>0.911424</td>\n",
              "      <td>0.911573</td>\n",
              "      <td>0.911573</td>\n",
              "      <td>0.909496</td>\n",
              "      <td>0.911573</td>\n",
              "    </tr>\n",
              "    <tr>\n",
              "      <th>std_train_score</th>\n",
              "      <td>0.00434087</td>\n",
              "      <td>0.00373581</td>\n",
              "      <td>0.00423304</td>\n",
              "      <td>0.0047985</td>\n",
              "      <td>0.00654503</td>\n",
              "      <td>0.0125246</td>\n",
              "      <td>0.0135706</td>\n",
              "      <td>0.00783686</td>\n",
              "      <td>0.00637464</td>\n",
              "      <td>0.00273577</td>\n",
              "      <td>0.00560273</td>\n",
              "      <td>0.00273577</td>\n",
              "      <td>0.00273577</td>\n",
              "      <td>0.00271963</td>\n",
              "      <td>0.00873483</td>\n",
              "      <td>0.00273577</td>\n",
              "      <td>0.00275182</td>\n",
              "      <td>0.00271963</td>\n",
              "      <td>0.00271963</td>\n",
              "      <td>0.00273577</td>\n",
              "      <td>0.00271963</td>\n",
              "      <td>0.00275182</td>\n",
              "      <td>0.00275182</td>\n",
              "      <td>0.00273577</td>\n",
              "      <td>0.00275182</td>\n",
              "    </tr>\n",
              "  </tbody>\n",
              "</table>\n",
              "</div>"
            ],
            "text/plain": [
              "                                                                                           17  ...                                                 14\n",
              "mean_fit_time                                                                        0.997499  ...                                            1.72235\n",
              "std_fit_time                                                                        0.0376609  ...                                          0.0907068\n",
              "mean_score_time                                                                      0.128173  ...                                           0.172126\n",
              "std_score_time                                                                      0.0396075  ...                                          0.0513167\n",
              "param_randomforestclassifier__max_depth                                                     5  ...                                                 20\n",
              "param_randomforestclassifier__max_features                                           0.588975  ...                                           0.776839\n",
              "param_randomforestclassifier__n_estimators                                                309  ...                                                337\n",
              "param_simpleimputer__strategy                                                          median  ...                                               mean\n",
              "params                                      {'randomforestclassifier__max_depth': 5, 'rand...  ...  {'randomforestclassifier__max_depth': 20, 'ran...\n",
              "split0_test_score                                                                    0.350148  ...                                           0.338279\n",
              "split1_test_score                                                                    0.400593  ...                                           0.362018\n",
              "split2_test_score                                                                    0.421365  ...                                           0.338279\n",
              "split3_test_score                                                                    0.364985  ...                                           0.320475\n",
              "split4_test_score                                                                    0.326409  ...                                           0.317507\n",
              "mean_test_score                                                                        0.3727  ...                                           0.335312\n",
              "std_test_score                                                                      0.0342264  ...                                          0.0159245\n",
              "rank_test_score                                                                             1  ...                                                 25\n",
              "split0_train_score                                                                   0.477003  ...                                           0.912463\n",
              "split1_train_score                                                                   0.477003  ...                                           0.910979\n",
              "split2_train_score                                                                   0.472552  ...                                           0.913947\n",
              "split3_train_score                                                                   0.466617  ...                                           0.913947\n",
              "split4_train_score                                                                   0.468101  ...                                           0.906528\n",
              "mean_train_score                                                                     0.472255  ...                                           0.911573\n",
              "std_train_score                                                                    0.00434087  ...                                         0.00275182\n",
              "\n",
              "[24 rows x 25 columns]"
            ]
          },
          "metadata": {
            "tags": []
          },
          "execution_count": 50
        }
      ]
    },
    {
      "cell_type": "markdown",
      "metadata": {
        "id": "aZatHJ4dYQi8",
        "colab_type": "text"
      },
      "source": [
        "##Random Forest with CV Evaluation"
      ]
    },
    {
      "cell_type": "code",
      "metadata": {
        "id": "sDLEavpVED3I",
        "colab_type": "code",
        "outputId": "68bf5190-e6d2-41c8-e086-c8479e3bfc41",
        "colab": {
          "base_uri": "https://localhost:8080/",
          "height": 90
        }
      },
      "source": [
        "CV_best_pipe = search.best_estimator_\n",
        "\n",
        "y_pred_RF = CV_best_pipe.predict(X_test)\n",
        "print(f'Validation accuracy for {k} folds:', scores)\n",
        "print(f'Prediction accuracy: {accuracy_score(y_test, y_pred_RF)}')"
      ],
      "execution_count": 51,
      "outputs": [
        {
          "output_type": "stream",
          "text": [
            "Validation accuracy for 18 folds: [0.25531915 0.30851064 0.36170213 0.30851064 0.32978723 0.39361702\n",
            " 0.34042553 0.38297872 0.38297872 0.38297872 0.34042553 0.31182796\n",
            " 0.30107527 0.3655914  0.2688172  0.34408602 0.35483871 0.32258065]\n",
            "Prediction accuracy: 0.35308056872037913\n"
          ],
          "name": "stdout"
        }
      ]
    },
    {
      "cell_type": "code",
      "metadata": {
        "id": "BYvaqkKOJ5zG",
        "colab_type": "code",
        "outputId": "85eb1298-6513-4562-b910-45b5da10a16c",
        "colab": {
          "base_uri": "https://localhost:8080/",
          "height": 315
        }
      },
      "source": [
        "plot_confusion_matrix(CV_best_pipe, X_test, y_test, normalize='true',\n",
        "                      xticks_rotation='vertical', cmap='Blues');"
      ],
      "execution_count": 52,
      "outputs": [
        {
          "output_type": "display_data",
          "data": {
            "image/png": "[encoded data removed]",
            "text/plain": [
              "<Figure size 432x288 with 2 Axes>"
            ]
          },
          "metadata": {
            "tags": [],
            "needs_background": "light"
          }
        }
      ]
    },
    {
      "cell_type": "code",
      "metadata": {
        "id": "rGqyhbdeKIe5",
        "colab_type": "code",
        "outputId": "27b377a1-5d3d-4438-8477-eebc5248033d",
        "colab": {
          "base_uri": "https://localhost:8080/",
          "height": 217
        }
      },
      "source": [
        "from sklearn.metrics import classification_report\n",
        "\n",
        "print(classification_report (y_test, y_pred_RF))"
      ],
      "execution_count": 53,
      "outputs": [
        {
          "output_type": "stream",
          "text": [
            "              precision    recall  f1-score   support\n",
            "\n",
            "   Excellent       0.45      0.37      0.41        97\n",
            "        Fair       0.35      0.53      0.43       115\n",
            "        Good       0.30      0.34      0.32       119\n",
            "        Poor       0.32      0.13      0.19        91\n",
            "\n",
            "    accuracy                           0.35       422\n",
            "   macro avg       0.36      0.34      0.33       422\n",
            "weighted avg       0.35      0.35      0.34       422\n",
            "\n"
          ],
          "name": "stdout"
        }
      ]
    },
    {
      "cell_type": "code",
      "metadata": {
        "id": "f3_MfxUTMz07",
        "colab_type": "code",
        "outputId": "8c80b8ae-df7b-4297-e693-b1ff0d2924d3",
        "colab": {
          "base_uri": "https://localhost:8080/",
          "height": 607
        }
      },
      "source": [
        "# Get feature importances\n",
        "rf = CV_best_pipe.named_steps['randomforestclassifier']\n",
        "importances = pd.Series(rf.feature_importances_, X_train.columns)\n",
        "\n",
        "# Plot feature importances\n",
        "%matplotlib inline\n",
        "\n",
        "n = 20\n",
        "plt.figure(figsize=(10,n/2))\n",
        "plt.title(f'Top {n} features')\n",
        "importances.sort_values()[-n:].plot.barh(color='grey');"
      ],
      "execution_count": 54,
      "outputs": [
        {
          "output_type": "display_data",
          "data": {
            "image/png": "[encoded data removed]",
            "text/plain": [
              "<Figure size 720x720 with 1 Axes>"
            ]
          },
          "metadata": {
            "tags": [],
            "needs_background": "light"
          }
        }
      ]
    },
    {
      "cell_type": "markdown",
      "metadata": {
        "id": "t7a5JR3TZe6h",
        "colab_type": "text"
      },
      "source": [
        "# Random Forest Classification using Train/Val split"
      ]
    },
    {
      "cell_type": "markdown",
      "metadata": {
        "id": "q4vs_5fVbvHa",
        "colab_type": "text"
      },
      "source": [
        "I was curious to see if the Cross Validation performed better than my own Train/Val split, so I also ran the model this way."
      ]
    },
    {
      "cell_type": "markdown",
      "metadata": {
        "id": "SN7oZ3l3bvQx",
        "colab_type": "text"
      },
      "source": [
        "##Model Pipeline: Random Forest Train/Val Split"
      ]
    },
    {
      "cell_type": "code",
      "metadata": {
        "id": "n82abM0CbHZt",
        "colab_type": "code",
        "outputId": "e3f5408f-3e5e-4703-fea7-991ddbeb66e7",
        "colab": {
          "base_uri": "https://localhost:8080/",
          "height": 54
        }
      },
      "source": [
        "# first, run the pipeline on the train/val split\n",
        "RF_pipe = make_pipeline(ce.ordinal.OrdinalEncoder(),\n",
        "                        SimpleImputer(),\n",
        "                        RandomForestClassifier(n_estimators=100, n_jobs=-1, random_state=55)\n",
        "                        )\n",
        "\n",
        "RF_pipe.fit(X_trainLR, y_trainLR)\n",
        "print(f'Train accuracy: {RF_pipe.score(X_trainLR, y_trainLR)}')\n",
        "print(f'Validation accuracy: {RF_pipe.score(X_val, y_val)}')"
      ],
      "execution_count": 55,
      "outputs": [
        {
          "output_type": "stream",
          "text": [
            "Train accuracy: 0.913946587537092\n",
            "Validation accuracy: 0.32344213649851633\n"
          ],
          "name": "stdout"
        }
      ]
    },
    {
      "cell_type": "code",
      "metadata": {
        "id": "9TpffjsHcXVF",
        "colab_type": "code",
        "outputId": "4677f30a-2870-45e0-98ca-d830d585db16",
        "colab": {
          "base_uri": "https://localhost:8080/",
          "height": 35
        }
      },
      "source": [
        "# then fit it back to the full training data set\n",
        "RF_pipe = make_pipeline(ce.ordinal.OrdinalEncoder(),\n",
        "                        SimpleImputer(),\n",
        "                        RandomForestClassifier(n_estimators=100, n_jobs=-1, random_state=55)\n",
        "                        )\n",
        "\n",
        "RF_pipe.fit(X_train, y_train)\n",
        "print(f'Train (full dataset) accuracy: {RF_pipe.score(X_train, y_train)}')"
      ],
      "execution_count": 56,
      "outputs": [
        {
          "output_type": "stream",
          "text": [
            "Train (full dataset) accuracy: 0.9014836795252226\n"
          ],
          "name": "stdout"
        }
      ]
    },
    {
      "cell_type": "markdown",
      "metadata": {
        "id": "3x7h5KEbcnXK",
        "colab_type": "text"
      },
      "source": [
        "##Random Forest Train/Val Split Evaluation"
      ]
    },
    {
      "cell_type": "code",
      "metadata": {
        "id": "lI9WIggnclLp",
        "colab_type": "code",
        "outputId": "94b0e029-040c-4ec8-b206-e5be5a7c3d23",
        "colab": {
          "base_uri": "https://localhost:8080/",
          "height": 35
        }
      },
      "source": [
        "y_pred_RFSplit = RF_pipe.predict(X_test)\n",
        "print(f'Prediction accuracy: {accuracy_score(y_test, y_pred_RFSplit)}')"
      ],
      "execution_count": 57,
      "outputs": [
        {
          "output_type": "stream",
          "text": [
            "Prediction accuracy: 0.3175355450236967\n"
          ],
          "name": "stdout"
        }
      ]
    },
    {
      "cell_type": "markdown",
      "metadata": {
        "id": "Qc6Qhv-YZsGS",
        "colab_type": "text"
      },
      "source": [
        "#XGBoost Classifier"
      ]
    },
    {
      "cell_type": "markdown",
      "metadata": {
        "id": "LcKyR8Wodteq",
        "colab_type": "text"
      },
      "source": [
        "##Model Pipeline: XGBoost Classifier"
      ]
    },
    {
      "cell_type": "code",
      "metadata": {
        "id": "Or4n7DHqZmR9",
        "colab_type": "code",
        "colab": {}
      },
      "source": [
        "from xgboost import XGBClassifier\n",
        "encoder = ce.ordinal.OrdinalEncoder()\n",
        "X_trainLR_encoded = encoder.fit_transform(X_trainLR)\n",
        "X_val_encoded = encoder.transform(X_val)\n",
        "\n",
        "XGBmodel = XGBClassifier(\n",
        "    n_estimators=1000, # upper threshold\n",
        "    max_depth=3, # use higher values if dealing with a lot of high-cardinality features\n",
        "    learning_rate=0.5,\n",
        "    n_jobs=-1\n",
        ")"
      ],
      "execution_count": 0,
      "outputs": []
    },
    {
      "cell_type": "markdown",
      "metadata": {
        "id": "D2KNFwcneEfN",
        "colab_type": "text"
      },
      "source": [
        "##XGBoost Classifier Evaluation"
      ]
    },
    {
      "cell_type": "code",
      "metadata": {
        "id": "6R2wAXBkeHVa",
        "colab_type": "code",
        "outputId": "eee5a99c-6bf1-449e-c6cd-7fcc92ab2b05",
        "colab": {
          "base_uri": "https://localhost:8080/",
          "height": 1000
        }
      },
      "source": [
        "eval_set = [(X_trainLR_encoded, y_trainLR), (X_val_encoded, y_val)]\n",
        "XGBmodel.fit(X_trainLR_encoded, \n",
        "          y_trainLR, \n",
        "          eval_set=eval_set, \n",
        "          eval_metric='merror',\n",
        "          early_stopping_rounds=50) # stop if the score hasn't improved in 50 rounds/iterations"
      ],
      "execution_count": 59,
      "outputs": [
        {
          "output_type": "stream",
          "text": [
            "[0]\tvalidation_0-merror:0.600148\tvalidation_1-merror:0.670623\n",
            "Multiple eval metrics have been passed: 'validation_1-merror' will be used for early stopping.\n",
            "\n",
            "Will train until validation_1-merror hasn't improved in 50 rounds.\n",
            "[1]\tvalidation_0-merror:0.580861\tvalidation_1-merror:0.682493\n",
            "[2]\tvalidation_0-merror:0.568249\tvalidation_1-merror:0.67359\n",
            "[3]\tvalidation_0-merror:0.554896\tvalidation_1-merror:0.679525\n",
            "[4]\tvalidation_0-merror:0.555638\tvalidation_1-merror:0.688427\n",
            "[5]\tvalidation_0-merror:0.551187\tvalidation_1-merror:0.670623\n",
            "[6]\tvalidation_0-merror:0.555638\tvalidation_1-merror:0.664688\n",
            "[7]\tvalidation_0-merror:0.545994\tvalidation_1-merror:0.667656\n",
            "[8]\tvalidation_0-merror:0.533383\tvalidation_1-merror:0.661721\n",
            "[9]\tvalidation_0-merror:0.526706\tvalidation_1-merror:0.658754\n",
            "[10]\tvalidation_0-merror:0.525223\tvalidation_1-merror:0.655786\n",
            "[11]\tvalidation_0-merror:0.512611\tvalidation_1-merror:0.652819\n",
            "[12]\tvalidation_0-merror:0.506677\tvalidation_1-merror:0.664688\n",
            "[13]\tvalidation_0-merror:0.502967\tvalidation_1-merror:0.664688\n",
            "[14]\tvalidation_0-merror:0.5\tvalidation_1-merror:0.649852\n",
            "[15]\tvalidation_0-merror:0.494807\tvalidation_1-merror:0.643917\n",
            "[16]\tvalidation_0-merror:0.488872\tvalidation_1-merror:0.661721\n",
            "[17]\tvalidation_0-merror:0.485163\tvalidation_1-merror:0.664688\n",
            "[18]\tvalidation_0-merror:0.477745\tvalidation_1-merror:0.667656\n",
            "[19]\tvalidation_0-merror:0.471068\tvalidation_1-merror:0.658754\n",
            "[20]\tvalidation_0-merror:0.464392\tvalidation_1-merror:0.658754\n",
            "[21]\tvalidation_0-merror:0.459199\tvalidation_1-merror:0.667656\n",
            "[22]\tvalidation_0-merror:0.457715\tvalidation_1-merror:0.658754\n",
            "[23]\tvalidation_0-merror:0.45549\tvalidation_1-merror:0.664688\n",
            "[24]\tvalidation_0-merror:0.45178\tvalidation_1-merror:0.676558\n",
            "[25]\tvalidation_0-merror:0.454748\tvalidation_1-merror:0.670623\n",
            "[26]\tvalidation_0-merror:0.452522\tvalidation_1-merror:0.670623\n",
            "[27]\tvalidation_0-merror:0.448813\tvalidation_1-merror:0.67359\n",
            "[28]\tvalidation_0-merror:0.436944\tvalidation_1-merror:0.682493\n",
            "[29]\tvalidation_0-merror:0.428783\tvalidation_1-merror:0.682493\n",
            "[30]\tvalidation_0-merror:0.433234\tvalidation_1-merror:0.679525\n",
            "[31]\tvalidation_0-merror:0.429525\tvalidation_1-merror:0.676558\n",
            "[32]\tvalidation_0-merror:0.426558\tvalidation_1-merror:0.679525\n",
            "[33]\tvalidation_0-merror:0.419139\tvalidation_1-merror:0.676558\n",
            "[34]\tvalidation_0-merror:0.418398\tvalidation_1-merror:0.670623\n",
            "[35]\tvalidation_0-merror:0.410979\tvalidation_1-merror:0.679525\n",
            "[36]\tvalidation_0-merror:0.410979\tvalidation_1-merror:0.68546\n",
            "[37]\tvalidation_0-merror:0.409496\tvalidation_1-merror:0.682493\n",
            "[38]\tvalidation_0-merror:0.405786\tvalidation_1-merror:0.676558\n",
            "[39]\tvalidation_0-merror:0.401335\tvalidation_1-merror:0.676558\n",
            "[40]\tvalidation_0-merror:0.397626\tvalidation_1-merror:0.682493\n",
            "[41]\tvalidation_0-merror:0.396142\tvalidation_1-merror:0.676558\n",
            "[42]\tvalidation_0-merror:0.390208\tvalidation_1-merror:0.67359\n",
            "[43]\tvalidation_0-merror:0.389466\tvalidation_1-merror:0.670623\n",
            "[44]\tvalidation_0-merror:0.386499\tvalidation_1-merror:0.676558\n",
            "[45]\tvalidation_0-merror:0.388724\tvalidation_1-merror:0.679525\n",
            "[46]\tvalidation_0-merror:0.383531\tvalidation_1-merror:0.67359\n",
            "[47]\tvalidation_0-merror:0.379822\tvalidation_1-merror:0.676558\n",
            "[48]\tvalidation_0-merror:0.374629\tvalidation_1-merror:0.676558\n",
            "[49]\tvalidation_0-merror:0.371662\tvalidation_1-merror:0.676558\n",
            "[50]\tvalidation_0-merror:0.370178\tvalidation_1-merror:0.67359\n",
            "[51]\tvalidation_0-merror:0.369436\tvalidation_1-merror:0.67359\n",
            "[52]\tvalidation_0-merror:0.364243\tvalidation_1-merror:0.661721\n",
            "[53]\tvalidation_0-merror:0.357567\tvalidation_1-merror:0.664688\n",
            "[54]\tvalidation_0-merror:0.355341\tvalidation_1-merror:0.655786\n",
            "[55]\tvalidation_0-merror:0.352374\tvalidation_1-merror:0.661721\n",
            "[56]\tvalidation_0-merror:0.350148\tvalidation_1-merror:0.667656\n",
            "[57]\tvalidation_0-merror:0.347923\tvalidation_1-merror:0.670623\n",
            "[58]\tvalidation_0-merror:0.346439\tvalidation_1-merror:0.67359\n",
            "[59]\tvalidation_0-merror:0.345697\tvalidation_1-merror:0.679525\n",
            "[60]\tvalidation_0-merror:0.344956\tvalidation_1-merror:0.676558\n",
            "[61]\tvalidation_0-merror:0.34273\tvalidation_1-merror:0.676558\n",
            "[62]\tvalidation_0-merror:0.34273\tvalidation_1-merror:0.679525\n",
            "[63]\tvalidation_0-merror:0.339763\tvalidation_1-merror:0.679525\n",
            "[64]\tvalidation_0-merror:0.339021\tvalidation_1-merror:0.67359\n",
            "[65]\tvalidation_0-merror:0.333828\tvalidation_1-merror:0.682493\n",
            "Stopping. Best iteration:\n",
            "[15]\tvalidation_0-merror:0.494807\tvalidation_1-merror:0.643917\n",
            "\n"
          ],
          "name": "stdout"
        },
        {
          "output_type": "execute_result",
          "data": {
            "text/plain": [
              "XGBClassifier(base_score=0.5, booster='gbtree', colsample_bylevel=1,\n",
              "              colsample_bynode=1, colsample_bytree=1, gamma=0,\n",
              "              learning_rate=0.5, max_delta_step=0, max_depth=3,\n",
              "              min_child_weight=1, missing=None, n_estimators=1000, n_jobs=-1,\n",
              "              nthread=None, objective='multi:softprob', random_state=0,\n",
              "              reg_alpha=0, reg_lambda=1, scale_pos_weight=1, seed=None,\n",
              "              silent=None, subsample=1, verbosity=1)"
            ]
          },
          "metadata": {
            "tags": []
          },
          "execution_count": 59
        }
      ]
    },
    {
      "cell_type": "markdown",
      "metadata": {
        "id": "d1bACW52aVcN",
        "colab_type": "text"
      },
      "source": [
        "#Partial Dependency Plots"
      ]
    },
    {
      "cell_type": "code",
      "metadata": {
        "id": "n-ESbmGmfVy5",
        "colab_type": "code",
        "colab": {}
      },
      "source": [
        "from pdpbox.pdp import pdp_interact, pdp_interact_plot"
      ],
      "execution_count": 0,
      "outputs": []
    },
    {
      "cell_type": "code",
      "metadata": {
        "id": "rF6OCnUbfoK0",
        "colab_type": "code",
        "outputId": "7d90db6d-8668-4dd8-af37-069caf269fe9",
        "colab": {
          "base_uri": "https://localhost:8080/",
          "height": 376
        }
      },
      "source": [
        "features = ['price', 'alcohol_by_volume']\n",
        "\n",
        "interact = pdp_interact(\n",
        "    model=CV_best_pipe,\n",
        "    dataset=X_trainLR_encoded,\n",
        "    model_features=X_trainLR_encoded.columns,\n",
        "    features=features\n",
        ")"
      ],
      "execution_count": 61,
      "outputs": [
        {
          "output_type": "error",
          "ename": "ValueError",
          "evalue": "ignored",
          "traceback": [
            "\u001b[0;31m---------------------------------------------------------------------------\u001b[0m",
            "\u001b[0;31mValueError\u001b[0m                                Traceback (most recent call last)",
            "\u001b[0;32m<ipython-input-61-54c366754223>\u001b[0m in \u001b[0;36m<module>\u001b[0;34m()\u001b[0m\n\u001b[1;32m      5\u001b[0m     \u001b[0mdataset\u001b[0m\u001b[0;34m=\u001b[0m\u001b[0mX_trainLR_encoded\u001b[0m\u001b[0;34m,\u001b[0m\u001b[0;34m\u001b[0m\u001b[0;34m\u001b[0m\u001b[0m\n\u001b[1;32m      6\u001b[0m     \u001b[0mmodel_features\u001b[0m\u001b[0;34m=\u001b[0m\u001b[0mX_trainLR_encoded\u001b[0m\u001b[0;34m.\u001b[0m\u001b[0mcolumns\u001b[0m\u001b[0;34m,\u001b[0m\u001b[0;34m\u001b[0m\u001b[0;34m\u001b[0m\u001b[0m\n\u001b[0;32m----> 7\u001b[0;31m     \u001b[0mfeatures\u001b[0m\u001b[0;34m=\u001b[0m\u001b[0mfeatures\u001b[0m\u001b[0;34m\u001b[0m\u001b[0;34m\u001b[0m\u001b[0m\n\u001b[0m\u001b[1;32m      8\u001b[0m )\n",
            "\u001b[0;32m/usr/local/lib/python3.6/dist-packages/pdpbox/pdp.py\u001b[0m in \u001b[0;36mpdp_interact\u001b[0;34m(model, dataset, model_features, features, num_grid_points, grid_types, percentile_ranges, grid_ranges, cust_grid_points, memory_limit, n_jobs, predict_kwds, data_transformer)\u001b[0m\n\u001b[1;32m    556\u001b[0m             \u001b[0mnum_grid_points\u001b[0m\u001b[0;34m=\u001b[0m\u001b[0mnum_grid_points\u001b[0m\u001b[0;34m[\u001b[0m\u001b[0midx\u001b[0m\u001b[0;34m]\u001b[0m\u001b[0;34m,\u001b[0m \u001b[0mgrid_type\u001b[0m\u001b[0;34m=\u001b[0m\u001b[0mgrid_types\u001b[0m\u001b[0;34m[\u001b[0m\u001b[0midx\u001b[0m\u001b[0;34m]\u001b[0m\u001b[0;34m,\u001b[0m \u001b[0mpercentile_range\u001b[0m\u001b[0;34m=\u001b[0m\u001b[0mpercentile_ranges\u001b[0m\u001b[0;34m[\u001b[0m\u001b[0midx\u001b[0m\u001b[0;34m]\u001b[0m\u001b[0;34m,\u001b[0m\u001b[0;34m\u001b[0m\u001b[0;34m\u001b[0m\u001b[0m\n\u001b[1;32m    557\u001b[0m             \u001b[0mgrid_range\u001b[0m\u001b[0;34m=\u001b[0m\u001b[0mgrid_ranges\u001b[0m\u001b[0;34m[\u001b[0m\u001b[0midx\u001b[0m\u001b[0;34m]\u001b[0m\u001b[0;34m,\u001b[0m \u001b[0mcust_grid_points\u001b[0m\u001b[0;34m=\u001b[0m\u001b[0mcust_grid_points\u001b[0m\u001b[0;34m[\u001b[0m\u001b[0midx\u001b[0m\u001b[0;34m]\u001b[0m\u001b[0;34m,\u001b[0m \u001b[0mmemory_limit\u001b[0m\u001b[0;34m=\u001b[0m\u001b[0mmemory_limit\u001b[0m\u001b[0;34m,\u001b[0m\u001b[0;34m\u001b[0m\u001b[0;34m\u001b[0m\u001b[0m\n\u001b[0;32m--> 558\u001b[0;31m             n_jobs=n_jobs, predict_kwds=predict_kwds, data_transformer=data_transformer)\n\u001b[0m\u001b[1;32m    559\u001b[0m         \u001b[0mpdp_isolate_outs\u001b[0m\u001b[0;34m.\u001b[0m\u001b[0mappend\u001b[0m\u001b[0;34m(\u001b[0m\u001b[0mpdp_isolate_out\u001b[0m\u001b[0;34m)\u001b[0m\u001b[0;34m\u001b[0m\u001b[0;34m\u001b[0m\u001b[0m\n\u001b[1;32m    560\u001b[0m \u001b[0;34m\u001b[0m\u001b[0m\n",
            "\u001b[0;32m/usr/local/lib/python3.6/dist-packages/pdpbox/pdp.py\u001b[0m in \u001b[0;36mpdp_isolate\u001b[0;34m(model, dataset, model_features, feature, num_grid_points, grid_type, percentile_range, grid_range, cust_grid_points, memory_limit, n_jobs, predict_kwds, data_transformer)\u001b[0m\n\u001b[1;32m    162\u001b[0m         \u001b[0mice_lines\u001b[0m \u001b[0;34m=\u001b[0m \u001b[0;34m[\u001b[0m\u001b[0;34m]\u001b[0m\u001b[0;34m\u001b[0m\u001b[0;34m\u001b[0m\u001b[0m\n\u001b[1;32m    163\u001b[0m         \u001b[0;32mfor\u001b[0m \u001b[0mn_class\u001b[0m \u001b[0;32min\u001b[0m \u001b[0mrange\u001b[0m\u001b[0;34m(\u001b[0m\u001b[0mn_classes\u001b[0m\u001b[0;34m)\u001b[0m\u001b[0;34m:\u001b[0m\u001b[0;34m\u001b[0m\u001b[0;34m\u001b[0m\u001b[0m\n\u001b[0;32m--> 164\u001b[0;31m             \u001b[0mice_line_n_class\u001b[0m \u001b[0;34m=\u001b[0m \u001b[0mpd\u001b[0m\u001b[0;34m.\u001b[0m\u001b[0mconcat\u001b[0m\u001b[0;34m(\u001b[0m\u001b[0;34m[\u001b[0m\u001b[0mgrid_result\u001b[0m\u001b[0;34m[\u001b[0m\u001b[0mn_class\u001b[0m\u001b[0;34m]\u001b[0m \u001b[0;32mfor\u001b[0m \u001b[0mgrid_result\u001b[0m \u001b[0;32min\u001b[0m \u001b[0mgrid_results\u001b[0m\u001b[0;34m]\u001b[0m\u001b[0;34m,\u001b[0m \u001b[0maxis\u001b[0m\u001b[0;34m=\u001b[0m\u001b[0;36m1\u001b[0m\u001b[0;34m)\u001b[0m\u001b[0;34m\u001b[0m\u001b[0;34m\u001b[0m\u001b[0m\n\u001b[0m\u001b[1;32m    165\u001b[0m             \u001b[0mice_lines\u001b[0m\u001b[0;34m.\u001b[0m\u001b[0mappend\u001b[0m\u001b[0;34m(\u001b[0m\u001b[0mice_line_n_class\u001b[0m\u001b[0;34m)\u001b[0m\u001b[0;34m\u001b[0m\u001b[0;34m\u001b[0m\u001b[0m\n\u001b[1;32m    166\u001b[0m     \u001b[0;32melse\u001b[0m\u001b[0;34m:\u001b[0m\u001b[0;34m\u001b[0m\u001b[0;34m\u001b[0m\u001b[0m\n",
            "\u001b[0;32m/usr/local/lib/python3.6/dist-packages/pandas/core/reshape/concat.py\u001b[0m in \u001b[0;36mconcat\u001b[0;34m(objs, axis, join, ignore_index, keys, levels, names, verify_integrity, sort, copy)\u001b[0m\n\u001b[1;32m    279\u001b[0m         \u001b[0mverify_integrity\u001b[0m\u001b[0;34m=\u001b[0m\u001b[0mverify_integrity\u001b[0m\u001b[0;34m,\u001b[0m\u001b[0;34m\u001b[0m\u001b[0;34m\u001b[0m\u001b[0m\n\u001b[1;32m    280\u001b[0m         \u001b[0mcopy\u001b[0m\u001b[0;34m=\u001b[0m\u001b[0mcopy\u001b[0m\u001b[0;34m,\u001b[0m\u001b[0;34m\u001b[0m\u001b[0;34m\u001b[0m\u001b[0m\n\u001b[0;32m--> 281\u001b[0;31m         \u001b[0msort\u001b[0m\u001b[0;34m=\u001b[0m\u001b[0msort\u001b[0m\u001b[0;34m,\u001b[0m\u001b[0;34m\u001b[0m\u001b[0;34m\u001b[0m\u001b[0m\n\u001b[0m\u001b[1;32m    282\u001b[0m     )\n\u001b[1;32m    283\u001b[0m \u001b[0;34m\u001b[0m\u001b[0m\n",
            "\u001b[0;32m/usr/local/lib/python3.6/dist-packages/pandas/core/reshape/concat.py\u001b[0m in \u001b[0;36m__init__\u001b[0;34m(self, objs, axis, join, keys, levels, names, ignore_index, verify_integrity, copy, sort)\u001b[0m\n\u001b[1;32m    327\u001b[0m \u001b[0;34m\u001b[0m\u001b[0m\n\u001b[1;32m    328\u001b[0m         \u001b[0;32mif\u001b[0m \u001b[0mlen\u001b[0m\u001b[0;34m(\u001b[0m\u001b[0mobjs\u001b[0m\u001b[0;34m)\u001b[0m \u001b[0;34m==\u001b[0m \u001b[0;36m0\u001b[0m\u001b[0;34m:\u001b[0m\u001b[0;34m\u001b[0m\u001b[0;34m\u001b[0m\u001b[0m\n\u001b[0;32m--> 329\u001b[0;31m             \u001b[0;32mraise\u001b[0m \u001b[0mValueError\u001b[0m\u001b[0;34m(\u001b[0m\u001b[0;34m\"No objects to concatenate\"\u001b[0m\u001b[0;34m)\u001b[0m\u001b[0;34m\u001b[0m\u001b[0;34m\u001b[0m\u001b[0m\n\u001b[0m\u001b[1;32m    330\u001b[0m \u001b[0;34m\u001b[0m\u001b[0m\n\u001b[1;32m    331\u001b[0m         \u001b[0;32mif\u001b[0m \u001b[0mkeys\u001b[0m \u001b[0;32mis\u001b[0m \u001b[0;32mNone\u001b[0m\u001b[0;34m:\u001b[0m\u001b[0;34m\u001b[0m\u001b[0;34m\u001b[0m\u001b[0m\n",
            "\u001b[0;31mValueError\u001b[0m: No objects to concatenate"
          ]
        }
      ]
    },
    {
      "cell_type": "code",
      "metadata": {
        "id": "1STeLQpRhRg2",
        "colab_type": "code",
        "colab": {}
      },
      "source": [
        "X_val.head()"
      ],
      "execution_count": 0,
      "outputs": []
    },
    {
      "cell_type": "code",
      "metadata": {
        "id": "sxpPN6P6hT2S",
        "colab_type": "code",
        "colab": {}
      },
      "source": [
        ""
      ],
      "execution_count": 0,
      "outputs": []
    }
  ]
}